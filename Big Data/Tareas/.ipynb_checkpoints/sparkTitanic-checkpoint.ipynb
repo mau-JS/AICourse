{
 "cells": [
  {
   "cell_type": "markdown",
   "id": "79e3b75a-6476-44d1-9e73-52eea4f71eb9",
   "metadata": {},
   "source": [
    "## Importing Libraries"
   ]
  },
  {
   "cell_type": "code",
   "execution_count": 1,
   "id": "584208c8-353b-416a-ad83-4c9ba11b9940",
   "metadata": {},
   "outputs": [
    {
     "name": "stderr",
     "output_type": "stream",
     "text": [
      "23/09/21 14:14:24 WARN Utils: Your hostname, MacBook-Air-de-Mauricio-5.local resolves to a loopback address: 127.0.0.1; using 192.168.100.74 instead (on interface en0)\n",
      "23/09/21 14:14:24 WARN Utils: Set SPARK_LOCAL_IP if you need to bind to another address\n",
      "Setting default log level to \"WARN\".\n",
      "To adjust logging level use sc.setLogLevel(newLevel). For SparkR, use setLogLevel(newLevel).\n",
      "23/09/21 14:14:24 WARN NativeCodeLoader: Unable to load native-hadoop library for your platform... using builtin-java classes where applicable\n"
     ]
    }
   ],
   "source": [
    "from pyspark.sql.types import *\n",
    "from pyspark.sql.functions import *\n",
    "from pyspark.sql import SparkSession\n",
    "from pyspark.ml import Pipeline\n",
    "#from pyspark.ml.classification import DecisionTreeClassifier\n",
    "from pyspark.ml.feature import VectorAssembler, StringIndexer, VectorIndexer, MinMaxScaler\n",
    "from pyspark.ml.classification import LogisticRegression\n",
    "from pyspark.ml.tuning import ParamGridBuilder, CrossValidator\n",
    "from pyspark.ml.evaluation import BinaryClassificationEvaluator\n",
    "\n",
    "spark = SparkSession.builder.master(\"local[*]\").getOrCreate()"
   ]
  },
  {
   "cell_type": "code",
   "execution_count": 2,
   "id": "1296e277-4274-43ed-beee-8fad37f705ea",
   "metadata": {},
   "outputs": [],
   "source": [
    "import numpy as np\n",
    "import pandas as pd"
   ]
  },
  {
   "cell_type": "markdown",
   "id": "4858e62b-aa65-4288-8204-c81f5845be38",
   "metadata": {},
   "source": [
    "## Loading data"
   ]
  },
  {
   "cell_type": "code",
   "execution_count": 3,
   "id": "5251497d-c2d3-43e8-b611-1b0ee5502383",
   "metadata": {},
   "outputs": [
    {
     "name": "stdout",
     "output_type": "stream",
     "text": [
      "+-----------+--------+------+--------------------+------+----+-----+-----+----------------+-------+-----+--------+\n",
      "|PassengerId|Survived|Pclass|                Name|   Sex| Age|SibSp|Parch|          Ticket|   Fare|Cabin|Embarked|\n",
      "+-----------+--------+------+--------------------+------+----+-----+-----+----------------+-------+-----+--------+\n",
      "|          1|       0|     3|Braund, Mr. Owen ...|  male|22.0|    1|    0|       A/5 21171|   7.25| null|       S|\n",
      "|          2|       1|     1|Cumings, Mrs. Joh...|female|38.0|    1|    0|        PC 17599|71.2833|  C85|       C|\n",
      "|          3|       1|     3|Heikkinen, Miss. ...|female|26.0|    0|    0|STON/O2. 3101282|  7.925| null|       S|\n",
      "|          4|       1|     1|Futrelle, Mrs. Ja...|female|35.0|    1|    0|          113803|   53.1| C123|       S|\n",
      "|          5|       0|     3|Allen, Mr. Willia...|  male|35.0|    0|    0|          373450|   8.05| null|       S|\n",
      "+-----------+--------+------+--------------------+------+----+-----+-----+----------------+-------+-----+--------+\n",
      "only showing top 5 rows\n",
      "\n"
     ]
    }
   ],
   "source": [
    "data = spark.read.csv('train.csv', header = True, inferSchema = True)\n",
    "data.show(5)"
   ]
  },
  {
   "cell_type": "markdown",
   "id": "d3ce3a11-e9f8-40bf-81c8-3f00f0cbf599",
   "metadata": {},
   "source": [
    "## Preparing the data"
   ]
  },
  {
   "cell_type": "markdown",
   "id": "21daf350-6c5f-45a8-bd42-82ac39188a0b",
   "metadata": {},
   "source": [
    "> ### Splitting the data"
   ]
  },
  {
   "cell_type": "markdown",
   "id": "a3399aa5-0619-413c-b6b9-dfd10e8933d8",
   "metadata": {},
   "source": [
    "We will use 80% of data as training data, and 20% as testing data."
   ]
  },
  {
   "cell_type": "code",
   "execution_count": 4,
   "id": "3fff57cb-a712-4a40-9abe-8f07de7fccda",
   "metadata": {},
   "outputs": [
    {
     "name": "stderr",
     "output_type": "stream",
     "text": [
      "23/09/21 14:14:37 WARN GarbageCollectionMetrics: To enable non-built-in garbage collector(s) List(G1 Concurrent GC), users should configure it(them) to spark.eventLog.gcMetrics.youngGenerationGarbageCollectors or spark.eventLog.gcMetrics.oldGenerationGarbageCollectors\n"
     ]
    },
    {
     "name": "stdout",
     "output_type": "stream",
     "text": [
      "Training Rows: 720  Testing Rows: 171\n"
     ]
    }
   ],
   "source": [
    "splits = data.randomSplit([0.8,0.2])\n",
    "train = splits[0]\n",
    "test = splits[1]\n",
    "train_rows = train.count()\n",
    "test_rows = test.count()\n",
    "print(\"Training Rows:\", train_rows, \" Testing Rows:\", test_rows)"
   ]
  },
  {
   "cell_type": "markdown",
   "id": "59fe35ce-3d2f-47fe-b125-13f466099387",
   "metadata": {},
   "source": [
    "> ### Defining our pipeline"
   ]
  },
  {
   "cell_type": "code",
   "execution_count": 18,
   "id": "3b2f8117-aca2-4ed8-b82b-74c6a19e7eb2",
   "metadata": {},
   "outputs": [],
   "source": [
    "#Pipeline with all data\n",
    "#This converts to labels\n",
    "strIdx = StringIndexer(inputCol = \"Sex\", outputCol = \"SexIdx\")\n",
    "#This creates a vector where the columns asked are included\n",
    "catVect = VectorAssembler(inputCols = [\"Pclass\", \"SexIdx\",\"SibSp\",\"Parch\"], outputCol = \"catFeatures\")\n",
    "catIdx = VectorIndexer(inputCol = catVect.getOutputCol(),outputCol = \"idxCatFeatures\")\n",
    "numVect = VectorAssembler(inputCols = [\"Fare\"],outputCol = \"numFeatures\")\n",
    "minMax = MinMaxScaler(inputCol = numVect.getOutputCol(), outputCol = \"normFeatures\")\n",
    "featVect = VectorAssembler(inputCols = [\"idxCatFeatures\", \"normFeatures\"],outputCol = \"features\")\n",
    "lr = LogisticRegression(labelCol = \"Survived\", featuresCol=\"features\", maxIter = 10, regParam = 0.3)\n",
    "pipeline = Pipeline(stages = [strIdx,catVect,catIdx,numVect,minMax,featVect,lr])"
   ]
  },
  {
   "cell_type": "markdown",
   "id": "60892a9c-0c5d-4cec-849a-2b4bbd5fa900",
   "metadata": {},
   "source": [
    "### Training the model"
   ]
  },
  {
   "cell_type": "code",
   "execution_count": 19,
   "id": "aa2cea1f-c531-4c75-b352-1212f69d47ee",
   "metadata": {},
   "outputs": [
    {
     "name": "stderr",
     "output_type": "stream",
     "text": [
      "23/09/21 14:31:32 WARN InstanceBuilder: Failed to load implementation from:dev.ludovic.netlib.blas.JNIBLAS\n",
      "23/09/21 14:31:32 WARN InstanceBuilder: Failed to load implementation from:dev.ludovic.netlib.blas.VectorBLAS\n"
     ]
    }
   ],
   "source": [
    "piplineModel = pipeline.fit(train)"
   ]
  },
  {
   "cell_type": "markdown",
   "id": "7515e8bd-45a1-413f-9fe4-0dd6599d3fca",
   "metadata": {},
   "source": [
    "### Generate label predictions"
   ]
  },
  {
   "cell_type": "code",
   "execution_count": 23,
   "id": "878f5c76-1751-45e5-a795-75df1d2df882",
   "metadata": {},
   "outputs": [
    {
     "name": "stdout",
     "output_type": "stream",
     "text": [
      "['PassengerId', 'Survived', 'Pclass', 'Name', 'Sex', 'Age', 'SibSp', 'Parch', 'Ticket', 'Fare', 'Cabin', 'Embarked', 'SexIdx', 'catFeatures', 'idxCatFeatures', 'numFeatures', 'normFeatures', 'features', 'rawPrediction', 'probability', 'prediction']\n",
      "+--------------------------------------+----------+--------+\n",
      "|features                              |prediction|Survived|\n",
      "+--------------------------------------+----------+--------+\n",
      "|[2.0,0.0,1.0,0.0,0.014151057562208049]|0.0       |0       |\n",
      "|[0.0,1.0,1.0,0.0,0.13913573538264068] |1.0       |1       |\n",
      "|[0.0,1.0,1.0,0.0,0.10364429745562033] |1.0       |1       |\n",
      "|(5,[0,4],[2.0,0.015712553569072387])  |0.0       |0       |\n",
      "|[2.0,1.0,1.0,1.0,0.03259622914329302] |0.0       |1       |\n",
      "|[2.0,1.0,0.0,0.0,0.014102260811993537]|0.0       |1       |\n",
      "|(5,[0,4],[1.0,0.050748620223090936])  |0.0       |0       |\n",
      "|[0.0,1.0,1.0,0.0,0.2859895551532101]  |1.0       |1       |\n",
      "|[2.0,1.0,0.0,0.0,0.01537917417160685] |0.0       |1       |\n",
      "|(5,[0,4],[2.0,0.01522458606692728])   |0.0       |0       |\n",
      "|(5,[4],[0.06929138530460494])         |0.0       |1       |\n",
      "|(5,[4],[0.05410739813385612])         |0.0       |0       |\n",
      "|[2.0,0.0,1.0,1.0,0.029757819776815374]|0.0       |1       |\n",
      "|(5,[0,4],[1.0,0.1434624456306609])    |0.0       |0       |\n",
      "|(5,[0,4],[2.0,0.11027245763075773])   |0.0       |1       |\n",
      "|[2.0,1.0,0.0,0.0,0.015200187691820024]|0.0       |1       |\n",
      "|[2.0,1.0,3.0,0.0,0.030937139635999665]|0.0       |1       |\n",
      "|(5,[0,4],[2.0,0.015712553569072387])  |0.0       |0       |\n",
      "|[2.0,0.0,1.0,2.0,0.04015972542654215] |0.0       |0       |\n",
      "|[2.0,1.0,0.0,0.0,0.015411575213749286]|0.0       |0       |\n",
      "|(5,[0,4],[2.0,0.015712553569072387])  |0.0       |0       |\n",
      "|[2.0,1.0,1.0,0.0,0.019177122834302632]|0.0       |0       |\n",
      "|(5,[0,4],[2.0,0.01393967004027879])   |0.0       |1       |\n",
      "|[2.0,1.0,1.0,1.0,0.04364049521284362] |0.0       |1       |\n",
      "|[1.0,1.0,1.0,0.0,0.050748620223090936]|1.0       |1       |\n",
      "|(5,[0,4],[2.0,0.01798980030808316])   |0.0       |0       |\n",
      "|(5,[4],[0.15458810467956932])         |0.0       |0       |\n",
      "|[2.0,1.0,0.0,2.0,0.029757819776815374]|0.0       |0       |\n",
      "|(5,[0,4],[1.0,0.022446505098674838])  |0.0       |0       |\n",
      "|[2.0,1.0,2.0,2.0,0.06709553154495196] |0.0       |0       |\n",
      "|(5,[0,4],[2.0,0.015712553569072387])  |0.0       |0       |\n",
      "|(5,[0,4],[2.0,0.014273049437744325])  |0.0       |0       |\n",
      "|(5,[0,4],[2.0,0.015712553569072387])  |0.0       |0       |\n",
      "|(5,[0,4],[2.0,0.016908073949327893])  |0.0       |0       |\n",
      "|(5,[0,4],[2.0,0.11027245763075773])   |0.0       |0       |\n",
      "|(5,[0,4],[1.0,0.02937564362913533])   |0.0       |0       |\n",
      "|[1.0,0.0,2.0,1.0,0.07612293033463641] |0.0       |1       |\n",
      "|[2.0,1.0,1.0,0.0,0.030253985132996517]|0.0       |1       |\n",
      "|[2.0,0.0,0.0,1.0,0.01640390592611157] |0.0       |0       |\n",
      "|(5,[0,4],[2.0,0.012678957201736696])  |0.0       |0       |\n",
      "|(5,[0,4],[2.0,0.015712553569072387])  |0.0       |1       |\n",
      "|[2.0,1.0,0.0,1.0,0.02042143996477265] |0.0       |0       |\n",
      "|[2.0,1.0,0.0,0.0,0.015126992566498259]|0.0       |1       |\n",
      "|[2.0,1.0,0.0,0.0,0.015468569817999833]|0.0       |1       |\n",
      "|(5,[0,4],[2.0,0.015712553569072387])  |0.0       |1       |\n",
      "|(5,[0,4],[2.0,0.014151057562208049])  |0.0       |0       |\n",
      "|[0.0,1.0,1.0,0.0,0.16293234896625058] |1.0       |1       |\n",
      "|(5,[0,4],[2.0,0.015175789316712771])  |0.0       |0       |\n",
      "|[2.0,1.0,1.0,1.0,0.02042143996477265] |0.0       |0       |\n",
      "|(5,[4],[0.051822148727810165])        |0.0       |0       |\n",
      "|(5,[1,4],[1.0,0.15458810467956932])   |1.0       |1       |\n",
      "|(5,[1,4],[1.0,0.16883675574220638])   |1.0       |1       |\n",
      "|(5,[0,4],[1.0,0.020494635090094415])  |0.0       |0       |\n",
      "|(5,[3,4],[1.0,0.057970539254838485])  |0.0       |0       |\n",
      "|[2.0,1.0,0.0,0.0,0.015126992566498259]|0.0       |1       |\n",
      "|(5,[0,4],[2.0,0.015330377421392339])  |0.0       |0       |\n",
      "|(5,[0,4],[2.0,0.015712553569072387])  |0.0       |1       |\n",
      "|(5,[0,4],[2.0,0.016908073949327893])  |0.0       |0       |\n",
      "|(5,[0,4],[2.0,0.015411575213749286])  |0.0       |0       |\n",
      "|(5,[1,4],[1.0,0.15390495017656614])   |1.0       |1       |\n",
      "|[0.0,1.0,1.0,0.0,0.17777475888549785] |1.0       |1       |\n",
      "|(5,[0,4],[2.0,0.015712553569072387])  |0.0       |0       |\n",
      "|[0.0,0.0,1.0,2.0,0.29580589980036276] |0.0       |1       |\n",
      "|(5,[1,4],[1.0,0.21642978772242535])   |1.0       |1       |\n",
      "|(5,[0,4],[2.0,0.015411575213749286])  |0.0       |0       |\n",
      "|[0.0,1.0,1.0,1.0,0.2625265161540666]  |1.0       |1       |\n",
      "|(5,[0,4],[2.0,0.014151057562208049])  |0.0       |0       |\n",
      "|[2.0,1.0,1.0,1.0,0.04006213192611313] |0.0       |1       |\n",
      "|[0.0,1.0,0.0,1.0,0.11316786160148591] |1.0       |1       |\n",
      "|(5,[4],[0.055628295244541985])        |0.0       |0       |\n",
      "|[1.0,1.0,0.0,0.0,0.025374310111545468]|1.0       |1       |\n",
      "|(5,[0,4],[2.0,0.018542765081513996])  |0.0       |0       |\n",
      "|[0.0,1.0,0.0,1.0,0.10735285047192313] |1.0       |1       |\n",
      "|[1.0,0.0,1.0,0.0,0.05410739813385612] |0.0       |0       |\n",
      "|[0.0,1.0,1.0,0.0,0.14687821814567664] |1.0       |1       |\n",
      "|[2.0,1.0,0.0,0.0,0.014110458666029575]|0.0       |1       |\n",
      "|(5,[0,4],[2.0,0.015411575213749286])  |0.0       |0       |\n",
      "|(5,[0,4],[1.0,0.1434624456306609])    |0.0       |0       |\n",
      "|[1.0,1.0,0.0,0.0,0.025374310111545468]|1.0       |1       |\n",
      "|(5,[0,4],[2.0,0.015086393670319786])  |0.0       |0       |\n",
      "|[0.0,1.0,1.0,0.0,0.22109807522194713] |1.0       |1       |\n",
      "|[2.0,1.0,0.0,0.0,0.015330377421392339]|0.0       |0       |\n",
      "|[1.0,0.0,1.0,0.0,0.04098927018018883] |0.0       |0       |\n",
      "|(5,[0,4],[2.0,0.015126992566498259])  |0.0       |0       |\n",
      "|(5,[0,4],[2.0,0.015411575213749286])  |0.0       |0       |\n",
      "|[0.0,1.0,1.0,0.0,0.17566830077223786] |1.0       |1       |\n",
      "|[2.0,1.0,1.0,1.0,0.028106928123558056]|0.0       |0       |\n",
      "|[1.0,1.0,1.0,0.0,0.050748620223090936]|1.0       |1       |\n",
      "|[1.0,1.0,0.0,0.0,0.050748620223090936]|1.0       |1       |\n",
      "|(5,[0,4],[2.0,0.015712553569072387])  |0.0       |1       |\n",
      "|[2.0,1.0,1.0,0.0,0.031425107138144774]|0.0       |1       |\n",
      "|(5,[0,4],[2.0,0.013907073811135496])  |0.0       |0       |\n",
      "|(5,[2,4],[1.0,0.1091095334796455])    |0.0       |0       |\n",
      "|[0.0,1.0,1.0,2.0,0.23422440102965048] |1.0       |1       |\n",
      "|(5,[0,4],[1.0,0.020494635090094415])  |0.0       |0       |\n",
      "|(5,[0,4],[2.0,0.018542765081513996])  |0.0       |0       |\n",
      "|[1.0,1.0,0.0,1.0,0.038061465167318204]|1.0       |1       |\n",
      "|(5,[4],[0.051822148727810165])        |0.0       |1       |\n",
      "|(5,[0,4],[2.0,0.015126992566498259])  |0.0       |0       |\n",
      "|(5,[0,4],[2.0,0.015712553569072387])  |0.0       |0       |\n",
      "+--------------------------------------+----------+--------+\n",
      "only showing top 100 rows\n",
      "\n"
     ]
    }
   ],
   "source": [
    "prediction = piplineModel.transform(test)\n",
    "print(prediction.columns)\n",
    "\n",
    "predicted = prediction.select(\"features\",\"prediction\",\"Survived\")\n",
    "predicted.show(100,truncate = False)"
   ]
  },
  {
   "cell_type": "code",
   "execution_count": null,
   "id": "9739ca42-7e71-4c12-a47d-d6f89fc1ef2f",
   "metadata": {},
   "outputs": [],
   "source": []
  }
 ],
 "metadata": {
  "kernelspec": {
   "display_name": "Python 3 (ipykernel)",
   "language": "python",
   "name": "python3"
  },
  "language_info": {
   "codemirror_mode": {
    "name": "ipython",
    "version": 3
   },
   "file_extension": ".py",
   "mimetype": "text/x-python",
   "name": "python",
   "nbconvert_exporter": "python",
   "pygments_lexer": "ipython3",
   "version": "3.11.4"
  }
 },
 "nbformat": 4,
 "nbformat_minor": 5
}
