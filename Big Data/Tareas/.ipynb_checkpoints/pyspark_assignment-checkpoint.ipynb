{
 "cells": [
  {
   "cell_type": "code",
   "execution_count": 1,
   "metadata": {
    "_cell_guid": "b1076dfc-b9ad-4769-8c92-a6c4dae69d19",
    "_uuid": "8f2839f25d086af736a60e9eeb907d3b93b6e0e5"
   },
   "outputs": [
    {
     "name": "stdout",
     "output_type": "stream",
     "text": [
      "['cal_housing.data.zip', 'flights.csv.zip', 'cal_housing.data', 'airports.xls']\n"
     ]
    }
   ],
   "source": [
    "# This Python 3 environment comes with many helpful analytics libraries installed\n",
    "# It is defined by the kaggle/python docker image: https://github.com/kaggle/docker-python\n",
    "# For example, here's several helpful packages to load in \n",
    "\n",
    "import numpy as np # linear algebra\n",
    "import pandas as pd # data processing, CSV file I/O (e.g. pd.read_csv)\n",
    "\n",
    "# Input data files are available in the \"../input/\" directory.\n",
    "# For example, running this (by clicking run or pressing Shift+Enter) will list the files in the input directory\n",
    "\n",
    "import os\n",
    "print(os.listdir('input/'))\n",
    "\n",
    "# Any results you write to the current directory are saved as output."
   ]
  },
  {
   "cell_type": "markdown",
   "metadata": {},
   "source": [
    "## Machine Learning with Spark"
   ]
  },
  {
   "cell_type": "markdown",
   "metadata": {},
   "source": [
    "This is a tutorial of machine learning with PySpark. I will create a classification model and a regression model using Pipelines."
   ]
  },
  {
   "cell_type": "markdown",
   "metadata": {},
   "source": [
    "### Install Spark\n",
    "Uncommet the code below to install PySpark and sparkmagic."
   ]
  },
  {
   "cell_type": "code",
   "execution_count": 2,
   "metadata": {},
   "outputs": [],
   "source": [
    "#!pip install sparkmagic\n",
    "#!pip install pyspark"
   ]
  },
  {
   "cell_type": "markdown",
   "metadata": {},
   "source": [
    "### Import Spark SQL and Spark ML Libraries\n",
    "\n",
    "We'll train a **LogisticRegression** model with a **Pipleline** preparing the data, a **CrossValidator** to tuene the parameters of the model, and a **BinaryClassificationEvaluator** to evaluate our trained model."
   ]
  },
  {
   "cell_type": "code",
   "execution_count": 3,
   "metadata": {},
   "outputs": [
    {
     "name": "stderr",
     "output_type": "stream",
     "text": [
      "/home/oscar/py3/lib/python3.6/site-packages/pyspark/context.py:238: FutureWarning: Python 3.6 support is deprecated in Spark 3.2.\n",
      "  FutureWarning\n"
     ]
    }
   ],
   "source": [
    "from pyspark.sql.types import *\n",
    "from pyspark.sql.functions import *\n",
    "from pyspark.sql import SparkSession\n",
    "\n",
    "from pyspark.ml import Pipeline\n",
    "#from pyspark.ml.classification import DecisionTreeClassifier\n",
    "from pyspark.ml.feature import VectorAssembler, StringIndexer, VectorIndexer, MinMaxScaler\n",
    "from pyspark.ml.classification import LogisticRegression\n",
    "from pyspark.ml.tuning import ParamGridBuilder, CrossValidator\n",
    "from pyspark.ml.evaluation import BinaryClassificationEvaluator\n",
    "\n",
    "spark = SparkSession.builder.master(\"local[*]\").getOrCreate()"
   ]
  },
  {
   "cell_type": "markdown",
   "metadata": {},
   "source": [
    "### Load Source Data\n",
    "The data from the flight.csv file data includes specific characteristics (or features) for each flight, as well as a column indicating how many minutes late or early the flight arrived."
   ]
  },
  {
   "cell_type": "code",
   "execution_count": 6,
   "metadata": {},
   "outputs": [
    {
     "name": "stdout",
     "output_type": "stream",
     "text": [
      "+----------+---------+-------+---------------+-------------+--------+--------+\n",
      "|DayofMonth|DayOfWeek|Carrier|OriginAirportID|DestAirportID|DepDelay|ArrDelay|\n",
      "+----------+---------+-------+---------------+-------------+--------+--------+\n",
      "|        19|        5|     DL|          11433|        13303|      -3|       1|\n",
      "|        19|        5|     DL|          14869|        12478|       0|      -8|\n",
      "|        19|        5|     DL|          14057|        14869|      -4|     -15|\n",
      "|        19|        5|     DL|          15016|        11433|      28|      24|\n",
      "|        19|        5|     DL|          11193|        12892|      -6|     -11|\n",
      "|        19|        5|     DL|          10397|        15016|      -1|     -19|\n",
      "|        19|        5|     DL|          15016|        10397|       0|      -1|\n",
      "|        19|        5|     DL|          10397|        14869|      15|      24|\n",
      "|        19|        5|     DL|          10397|        10423|      33|      34|\n",
      "|        19|        5|     DL|          11278|        10397|     323|     322|\n",
      "+----------+---------+-------+---------------+-------------+--------+--------+\n",
      "only showing top 10 rows\n",
      "\n"
     ]
    }
   ],
   "source": [
    "csv = spark.read.csv('input/flights.csv', inferSchema=True, header=True)\n",
    "csv.show(10)"
   ]
  },
  {
   "cell_type": "markdown",
   "metadata": {},
   "source": [
    "### Prepare the Data for a Classification Model (Decision Tree Learning Model)\n",
    "I select a subset of columns to use as features and create a Boolean label field named *label* with values 1 or 0. Specifically, **1** for flight that arrived late, **0** for flight was early or on-time."
   ]
  },
  {
   "cell_type": "code",
   "execution_count": 8,
   "metadata": {},
   "outputs": [
    {
     "name": "stdout",
     "output_type": "stream",
     "text": [
      "+----------+---------+-------+---------------+-------------+--------+-----+\n",
      "|DayofMonth|DayOfWeek|Carrier|OriginAirportID|DestAirportID|DepDelay|label|\n",
      "+----------+---------+-------+---------------+-------------+--------+-----+\n",
      "|        19|        5|     DL|          11433|        13303|      -3|    0|\n",
      "|        19|        5|     DL|          14869|        12478|       0|    0|\n",
      "|        19|        5|     DL|          14057|        14869|      -4|    0|\n",
      "|        19|        5|     DL|          15016|        11433|      28|    1|\n",
      "|        19|        5|     DL|          11193|        12892|      -6|    0|\n",
      "|        19|        5|     DL|          10397|        15016|      -1|    0|\n",
      "|        19|        5|     DL|          15016|        10397|       0|    0|\n",
      "|        19|        5|     DL|          10397|        14869|      15|    1|\n",
      "|        19|        5|     DL|          10397|        10423|      33|    1|\n",
      "|        19|        5|     DL|          11278|        10397|     323|    1|\n",
      "+----------+---------+-------+---------------+-------------+--------+-----+\n",
      "only showing top 10 rows\n",
      "\n"
     ]
    }
   ],
   "source": [
    "data = csv.select(\"DayofMonth\", \"DayOfWeek\", \"Carrier\", \"OriginAirportID\", \"DestAirportID\", \"DepDelay\", ((col(\"ArrDelay\") > 15).cast(\"Int\").alias(\"label\")))\n",
    "data.show(10)\n"
   ]
  },
  {
   "cell_type": "code",
   "execution_count": 9,
   "metadata": {},
   "outputs": [
    {
     "data": {
      "text/plain": [
       "pyspark.sql.dataframe.DataFrame"
      ]
     },
     "execution_count": 9,
     "metadata": {},
     "output_type": "execute_result"
    }
   ],
   "source": [
    "type(data)"
   ]
  },
  {
   "cell_type": "markdown",
   "metadata": {},
   "source": [
    "### Split the Data\n",
    "\n",
    "I will use 70% of the data for training, and reserve 30% for testing. In the testing data, the *label* column is renamed to *trueLabel* so I can use it later to compare predicted labels with known actual values."
   ]
  },
  {
   "cell_type": "code",
   "execution_count": 10,
   "metadata": {},
   "outputs": [
    {
     "name": "stdout",
     "output_type": "stream",
     "text": [
      "Training Rows: 1891714  Testing Rows: 810504\n"
     ]
    }
   ],
   "source": [
    "splits = data.randomSplit([0.7, 0.3])\n",
    "train = splits[0]\n",
    "test = splits[1].withColumnRenamed(\"label\", \"trueLabel\")\n",
    "train_rows = train.count()\n",
    "test_rows = test.count()\n",
    "print(\"Training Rows:\", train_rows, \" Testing Rows:\", test_rows)"
   ]
  },
  {
   "cell_type": "markdown",
   "metadata": {},
   "source": [
    "### Define the Pipeline\n",
    "\n",
    "A pipeline consists of a series of transformer and estimator stages that typically prepare a DataFrame for modeling and then train a predictive model. In this case, you will create a pipeline with seven stages:\n",
    "* A **StringIndexer estimator** that converts string values to indexes for categorical features\n",
    "* A **VectorAssembler** that combines categorical features into a single vector\n",
    "* A **VectorIndexer** that creates indexes for a vector of categorical features\n",
    "* A **VectorAssembler** that creates a vector of continuous numeric features\n",
    "* A **MinMaxScaler** that normalizes continuous numeric features\n",
    "* A **VectorAssembler** that creates a vector of categorical and continuous features\n",
    "* A **DecisionTreeClassifier** that trains a classification model."
   ]
  },
  {
   "cell_type": "code",
   "execution_count": 11,
   "metadata": {},
   "outputs": [],
   "source": [
    "strIdx = StringIndexer(inputCol = \"Carrier\", outputCol = \"CarrierIdx\")\n",
    "catVect = VectorAssembler(inputCols = [\"CarrierIdx\", \"DayofMonth\", \"DayOfWeek\", \"OriginAirportID\", \"DestAirportID\"], outputCol=\"catFeatures\")\n",
    "catIdx = VectorIndexer(inputCol = catVect.getOutputCol(), outputCol = \"idxCatFeatures\")\n",
    "numVect = VectorAssembler(inputCols = [\"DepDelay\"], outputCol=\"numFeatures\")\n",
    "minMax = MinMaxScaler(inputCol = numVect.getOutputCol(), outputCol=\"normFeatures\")\n",
    "featVect = VectorAssembler(inputCols=[\"idxCatFeatures\", \"normFeatures\"], outputCol=\"features\")\n",
    "lr = LogisticRegression(labelCol=\"label\",featuresCol=\"features\",maxIter=10,regParam=0.3)\n",
    "#dt = DecisionTreeClassifier(labelCol=\"label\", featuresCol=\"features\")\n",
    "pipeline = Pipeline(stages=[strIdx, catVect, catIdx, numVect, minMax, featVect, lr])"
   ]
  },
  {
   "cell_type": "markdown",
   "metadata": {},
   "source": [
    "### Run the Pipeline to train a model\n",
    "Run the pipeline as an Estimator on the training data to train a model."
   ]
  },
  {
   "cell_type": "code",
   "execution_count": 12,
   "metadata": {},
   "outputs": [],
   "source": [
    "piplineModel = pipeline.fit(train)"
   ]
  },
  {
   "cell_type": "markdown",
   "metadata": {},
   "source": [
    "### Generate label predictions\n",
    "Transform the test data with all of the stages and the trained model in the pipeline to generate label predictions."
   ]
  },
  {
   "cell_type": "code",
   "execution_count": 13,
   "metadata": {},
   "outputs": [
    {
     "name": "stdout",
     "output_type": "stream",
     "text": [
      "+---------------------------------------------------+----------+---------+\n",
      "|features                                           |prediction|trueLabel|\n",
      "+---------------------------------------------------+----------+---------+\n",
      "|[10.0,1.0,0.0,10423.0,11433.0,0.0296411856474259]  |0.0       |0        |\n",
      "|[10.0,1.0,0.0,10529.0,11193.0,0.0358814352574103]  |0.0       |0        |\n",
      "|[10.0,1.0,0.0,10529.0,11433.0,0.028601144045761834]|0.0       |0        |\n",
      "|[10.0,1.0,0.0,10693.0,13487.0,0.029121164846593866]|0.0       |0        |\n",
      "|[10.0,1.0,0.0,10721.0,12478.0,0.0296411856474259]  |0.0       |1        |\n",
      "|[10.0,1.0,0.0,10792.0,12478.0,0.05356214248569943] |0.0       |1        |\n",
      "|[10.0,1.0,0.0,10821.0,11193.0,0.026001040041601666]|0.0       |0        |\n",
      "|[10.0,1.0,0.0,10821.0,12478.0,0.026001040041601666]|0.0       |0        |\n",
      "|[10.0,1.0,0.0,10821.0,13487.0,0.027561102444097766]|0.0       |0        |\n",
      "|[10.0,1.0,0.0,10821.0,14492.0,0.030161206448257934]|0.0       |0        |\n",
      "|[10.0,1.0,0.0,11042.0,11433.0,0.0280811232449298]  |0.0       |0        |\n",
      "|[10.0,1.0,0.0,11042.0,12478.0,0.029121164846593866]|0.0       |0        |\n",
      "|[10.0,1.0,0.0,11042.0,13487.0,0.026521060842433702]|0.0       |0        |\n",
      "|[10.0,1.0,0.0,11042.0,13487.0,0.0296411856474259]  |0.0       |0        |\n",
      "|[10.0,1.0,0.0,11193.0,10721.0,0.03796151846073843] |0.0       |0        |\n",
      "|[10.0,1.0,0.0,11193.0,10821.0,0.027041081643265734]|0.0       |0        |\n",
      "|[10.0,1.0,0.0,11193.0,11057.0,0.026001040041601666]|0.0       |0        |\n",
      "|[10.0,1.0,0.0,11193.0,11298.0,0.030681227249089966]|0.0       |0        |\n",
      "|[10.0,1.0,0.0,11193.0,11433.0,0.026001040041601666]|0.0       |0        |\n",
      "|[10.0,1.0,0.0,11193.0,11433.0,0.0280811232449298]  |0.0       |0        |\n",
      "|[10.0,1.0,0.0,11193.0,11433.0,0.029121164846593866]|0.0       |0        |\n",
      "|[10.0,1.0,0.0,11193.0,13930.0,0.030681227249089966]|0.0       |0        |\n",
      "|[10.0,1.0,0.0,11193.0,14100.0,0.0280811232449298]  |0.0       |0        |\n",
      "|[10.0,1.0,0.0,11193.0,14492.0,0.029121164846593866]|0.0       |0        |\n",
      "|[10.0,1.0,0.0,11193.0,14492.0,0.04472178887155487] |0.0       |1        |\n",
      "|[10.0,1.0,0.0,11193.0,15016.0,0.0296411856474259]  |0.0       |0        |\n",
      "|[10.0,1.0,0.0,11278.0,11433.0,0.026521060842433702]|0.0       |0        |\n",
      "|[10.0,1.0,0.0,11278.0,12478.0,0.06136245449817993] |0.0       |1        |\n",
      "|[10.0,1.0,0.0,11278.0,13244.0,0.04628185127405097] |0.0       |1        |\n",
      "|[10.0,1.0,0.0,11298.0,12478.0,0.028601144045761834]|0.0       |0        |\n",
      "|[10.0,1.0,0.0,11433.0,10423.0,0.0280811232449298]  |0.0       |0        |\n",
      "|[10.0,1.0,0.0,11433.0,10693.0,0.031201248049922]   |0.0       |0        |\n",
      "|[10.0,1.0,0.0,11433.0,10693.0,0.03640145605824233] |0.0       |0        |\n",
      "|[10.0,1.0,0.0,11433.0,11193.0,0.029121164846593866]|0.0       |0        |\n",
      "|[10.0,1.0,0.0,11433.0,11193.0,0.030681227249089966]|0.0       |0        |\n",
      "|[10.0,1.0,0.0,11433.0,11298.0,0.030161206448257934]|0.0       |0        |\n",
      "|[10.0,1.0,0.0,11433.0,12339.0,0.027561102444097766]|0.0       |0        |\n",
      "|[10.0,1.0,0.0,11433.0,12339.0,0.0405616224648986]  |0.0       |0        |\n",
      "|[10.0,1.0,0.0,11433.0,12478.0,0.030681227249089966]|0.0       |0        |\n",
      "|[10.0,1.0,0.0,11433.0,13232.0,0.029121164846593866]|0.0       |0        |\n",
      "|[10.0,1.0,0.0,11433.0,13232.0,0.0296411856474259]  |0.0       |0        |\n",
      "|[10.0,1.0,0.0,11433.0,13232.0,0.031201248049922]   |0.0       |0        |\n",
      "|[10.0,1.0,0.0,11433.0,13851.0,0.031721268850754034]|0.0       |0        |\n",
      "|[10.0,1.0,0.0,11433.0,13871.0,0.028601144045761834]|0.0       |0        |\n",
      "|[10.0,1.0,0.0,11433.0,13871.0,0.029121164846593866]|0.0       |0        |\n",
      "|[10.0,1.0,0.0,11433.0,13931.0,0.027561102444097766]|0.0       |0        |\n",
      "|[10.0,1.0,0.0,11433.0,13931.0,0.029121164846593866]|0.0       |0        |\n",
      "|[10.0,1.0,0.0,11433.0,14100.0,0.03640145605824233] |0.0       |0        |\n",
      "|[10.0,1.0,0.0,11433.0,14307.0,0.028601144045761834]|0.0       |0        |\n",
      "|[10.0,1.0,0.0,11433.0,14524.0,0.027041081643265734]|0.0       |0        |\n",
      "|[10.0,1.0,0.0,11433.0,14524.0,0.028601144045761834]|0.0       |0        |\n",
      "|[10.0,1.0,0.0,12264.0,10397.0,0.027561102444097766]|0.0       |0        |\n",
      "|[10.0,1.0,0.0,12264.0,10397.0,0.030161206448257934]|0.0       |0        |\n",
      "|[10.0,1.0,0.0,12264.0,10397.0,0.030681227249089966]|0.0       |0        |\n",
      "|[10.0,1.0,0.0,12264.0,10397.0,0.03536141445657827] |0.0       |0        |\n",
      "|[10.0,1.0,0.0,12264.0,12478.0,0.031201248049922]   |0.0       |0        |\n",
      "|[10.0,1.0,0.0,12266.0,13244.0,0.029121164846593866]|0.0       |0        |\n",
      "|[10.0,1.0,0.0,12339.0,11433.0,0.026001040041601666]|0.0       |0        |\n",
      "|[10.0,1.0,0.0,12339.0,11433.0,0.0280811232449298]  |0.0       |1        |\n",
      "|[10.0,1.0,0.0,12339.0,11433.0,0.029121164846593866]|0.0       |0        |\n",
      "|[10.0,1.0,0.0,12339.0,11433.0,0.0405616224648986]  |0.0       |0        |\n",
      "|[10.0,1.0,0.0,12339.0,13244.0,0.0343213728549142]  |0.0       |0        |\n",
      "|[10.0,1.0,0.0,12339.0,13487.0,0.029121164846593866]|0.0       |0        |\n",
      "|[10.0,1.0,0.0,12339.0,13487.0,0.0358814352574103]  |0.0       |0        |\n",
      "|[10.0,1.0,0.0,12339.0,14492.0,0.027041081643265734]|0.0       |0        |\n",
      "|[10.0,1.0,0.0,12451.0,12478.0,0.09464378575143007] |1.0       |1        |\n",
      "|[10.0,1.0,0.0,12478.0,10721.0,0.028601144045761834]|0.0       |0        |\n",
      "|[10.0,1.0,0.0,12478.0,10721.0,0.031721268850754034]|0.0       |0        |\n",
      "|[10.0,1.0,0.0,12478.0,11433.0,0.03536141445657827] |0.0       |0        |\n",
      "|[10.0,1.0,0.0,12478.0,13487.0,0.031201248049922]   |0.0       |0        |\n",
      "|[10.0,1.0,0.0,12478.0,13930.0,0.031201248049922]   |0.0       |0        |\n",
      "|[10.0,1.0,0.0,12478.0,14100.0,0.031201248049922]   |0.0       |1        |\n",
      "|[10.0,1.0,0.0,12478.0,14524.0,0.026001040041601666]|0.0       |0        |\n",
      "|[10.0,1.0,0.0,12953.0,14730.0,0.0296411856474259]  |0.0       |0        |\n",
      "|[10.0,1.0,0.0,13198.0,11193.0,0.0421216848673947]  |0.0       |0        |\n",
      "|[10.0,1.0,0.0,13198.0,12478.0,0.029121164846593866]|0.0       |0        |\n",
      "|[10.0,1.0,0.0,13232.0,11433.0,0.026001040041601666]|0.0       |0        |\n",
      "|[10.0,1.0,0.0,13232.0,11433.0,0.0280811232449298]  |0.0       |0        |\n",
      "|[10.0,1.0,0.0,13232.0,11433.0,0.0296411856474259]  |0.0       |0        |\n",
      "|[10.0,1.0,0.0,13244.0,11278.0,0.05408216328653147] |0.0       |1        |\n",
      "|[10.0,1.0,0.0,13244.0,12339.0,0.029121164846593866]|0.0       |0        |\n",
      "|[10.0,1.0,0.0,13244.0,13198.0,0.0296411856474259]  |0.0       |0        |\n",
      "|[10.0,1.0,0.0,13244.0,14122.0,0.029121164846593866]|0.0       |0        |\n",
      "|[10.0,1.0,0.0,13244.0,14869.0,0.0296411856474259]  |0.0       |0        |\n",
      "|[10.0,1.0,0.0,13244.0,15016.0,0.027561102444097766]|0.0       |0        |\n",
      "|[10.0,1.0,0.0,13342.0,11193.0,0.0280811232449298]  |0.0       |0        |\n",
      "|[10.0,1.0,0.0,13487.0,10423.0,0.030161206448257934]|0.0       |0        |\n",
      "|[10.0,1.0,0.0,13487.0,10423.0,0.031201248049922]   |0.0       |0        |\n",
      "|[10.0,1.0,0.0,13487.0,10423.0,0.0405616224648986]  |0.0       |0        |\n",
      "|[10.0,1.0,0.0,13487.0,10821.0,0.030681227249089966]|0.0       |0        |\n",
      "|[10.0,1.0,0.0,13487.0,11042.0,0.0280811232449298]  |0.0       |0        |\n",
      "|[10.0,1.0,0.0,13487.0,11066.0,0.030681227249089966]|0.0       |0        |\n",
      "|[10.0,1.0,0.0,13487.0,11066.0,0.08164326573062923] |0.0       |1        |\n",
      "|[10.0,1.0,0.0,13487.0,11193.0,0.027561102444097766]|0.0       |0        |\n",
      "|[10.0,1.0,0.0,13487.0,11298.0,0.031201248049922]   |0.0       |0        |\n",
      "|[10.0,1.0,0.0,13487.0,12339.0,0.027561102444097766]|0.0       |0        |\n",
      "|[10.0,1.0,0.0,13487.0,12339.0,0.029121164846593866]|0.0       |0        |\n",
      "|[10.0,1.0,0.0,13487.0,12339.0,0.031201248049922]   |0.0       |0        |\n",
      "|[10.0,1.0,0.0,13487.0,12339.0,0.04004160166406657] |0.0       |0        |\n",
      "|[10.0,1.0,0.0,13487.0,12478.0,0.030681227249089966]|0.0       |0        |\n",
      "+---------------------------------------------------+----------+---------+\n",
      "only showing top 100 rows\n",
      "\n"
     ]
    }
   ],
   "source": [
    "prediction = piplineModel.transform(test)\n",
    "predicted = prediction.select(\"features\", \"prediction\", \"trueLabel\")\n",
    "predicted.show(100, truncate=False)"
   ]
  },
  {
   "cell_type": "markdown",
   "metadata": {},
   "source": [
    "Looking into the results, some trueLabel 1s are predicted as 0. Let's evaluate the model."
   ]
  },
  {
   "cell_type": "markdown",
   "metadata": {},
   "source": [
    "## Evaluating a Classification Model\n",
    "We'll calculate a *Confusion Matrix* and the *Area Under ROC* (Receiver Operating Characteristic) to evaluate the model. \n",
    "### Compute Confusion Matrix\n",
    "Classifiers are typically evaluated by creating a *confusion matrix*, which indicates the number of:\n",
    "- True Positives\n",
    "- True Negatives\n",
    "- False Positives\n",
    "- False Negatives\n",
    "\n",
    "From these core measures, other evaluation metrics such as *precision*, *recall* and *F1* can be calculated."
   ]
  },
  {
   "cell_type": "code",
   "execution_count": 14,
   "metadata": {},
   "outputs": [
    {
     "name": "stdout",
     "output_type": "stream",
     "text": [
      "+---------+-------------------+\n",
      "|   metric|              value|\n",
      "+---------+-------------------+\n",
      "|       TP|            19359.0|\n",
      "|       FP|               75.0|\n",
      "|       TN|           648861.0|\n",
      "|       FN|           142209.0|\n",
      "|Precision| 0.9961407841926521|\n",
      "|   Recall|0.11981951871657753|\n",
      "|       F1| 0.2139092385719495|\n",
      "+---------+-------------------+\n",
      "\n"
     ]
    }
   ],
   "source": [
    "tp = float(predicted.filter(\"prediction == 1.0 AND truelabel == 1\").count())\n",
    "fp = float(predicted.filter(\"prediction == 1.0 AND truelabel == 0\").count())\n",
    "tn = float(predicted.filter(\"prediction == 0.0 AND truelabel == 0\").count())\n",
    "fn = float(predicted.filter(\"prediction == 0.0 AND truelabel == 1\").count())\n",
    "pr = tp / (tp + fp)\n",
    "re = tp / (tp + fn)\n",
    "metrics = spark.createDataFrame([\n",
    " (\"TP\", tp),\n",
    " (\"FP\", fp),\n",
    " (\"TN\", tn),\n",
    " (\"FN\", fn),\n",
    " (\"Precision\", pr),\n",
    " (\"Recall\", re),\n",
    " (\"F1\", 2*pr*re/(re+pr))],[\"metric\", \"value\"])\n",
    "metrics.show()"
   ]
  },
  {
   "cell_type": "markdown",
   "metadata": {},
   "source": [
    "Looks like we've got a good *Precision*, but a low *Recall*, therefore our *F1* is not that good."
   ]
  },
  {
   "cell_type": "markdown",
   "metadata": {},
   "source": [
    "### Review the Area Under ROC\n",
    "Another way to assess the performance of a classification model is to measure the area under a ROC (Receiver Operating Characteristic) curve for the model. the spark.ml library includes a **BinaryClassificationEvaluator** class that we can use to compute this. The ROC curve shows the True Positive and False Positive rates plotted for varying thresholds."
   ]
  },
  {
   "cell_type": "code",
   "execution_count": 15,
   "metadata": {},
   "outputs": [
    {
     "name": "stdout",
     "output_type": "stream",
     "text": [
      "AUR =  0.9225931181823259\n"
     ]
    }
   ],
   "source": [
    "evaluator = BinaryClassificationEvaluator(labelCol=\"trueLabel\", rawPredictionCol=\"rawPrediction\", metricName=\"areaUnderROC\")\n",
    "aur = evaluator.evaluate(prediction)\n",
    "print (\"AUR = \", aur)"
   ]
  },
  {
   "cell_type": "markdown",
   "metadata": {},
   "source": [
    "So the AUR shows that our model is ok.\n",
    "Let's look deeper."
   ]
  },
  {
   "cell_type": "markdown",
   "metadata": {},
   "source": [
    "### View the Raw Prediction and Probability\n",
    "The prediction is based on a raw prediction score that describes a labelled point in a logistic function. This raw prediction is then converted to a predicted label of 0 or 1 based on a probability vector that indicates the confidence for each possible label value (in this case, 0 and 1). The value with the highest confidence is selected as the prediction."
   ]
  },
  {
   "cell_type": "code",
   "execution_count": 16,
   "metadata": {},
   "outputs": [
    {
     "name": "stdout",
     "output_type": "stream",
     "text": [
      "+----------------------------------------+----------------------------------------+----------+---------+\n",
      "|rawPrediction                           |probability                             |prediction|trueLabel|\n",
      "+----------------------------------------+----------------------------------------+----------+---------+\n",
      "|[1.5984544658547586,-1.5984544658547586]|[0.8318022645628909,0.16819773543710914]|0.0       |0        |\n",
      "|[1.4314608590203797,-1.4314608590203797]|[0.8071288324771809,0.19287116752281908]|0.0       |0        |\n",
      "|[1.6273766558692135,-1.6273766558692135]|[0.8358099499332353,0.16419005006676468]|0.0       |0        |\n",
      "|[1.6161372113730468,-1.6161372113730468]|[0.8342617148786063,0.16573828512139366]|0.0       |0        |\n",
      "|[1.6017842970405678,-1.6017842970405678]|[0.8322676175380086,0.1677323824619914] |0.0       |1        |\n",
      "|[0.9591868679637883,-0.9591868679637883]|[0.7229589730106476,0.2770410269893524] |0.0       |1        |\n",
      "|[1.6997775617273254,-1.6997775617273254]|[0.8455056809667376,0.15449431903326238]|0.0       |0        |\n",
      "|[1.7005695120790874,-1.7005695120790874]|[0.845609101830568,0.15439089816943197] |0.0       |0        |\n",
      "|[1.6592411017439015,-1.6592411017439015]|[0.8401361036892302,0.1598638963107698] |0.0       |0        |\n",
      "|[1.5899433856303746,-1.5899433856303746]|[0.8306081376718151,0.16939186232818493]|0.0       |0        |\n",
      "|[1.6459836069854945,-1.6459836069854945]|[0.8383474843091046,0.16165251569089545]|0.0       |0        |\n",
      "|[1.6186608038678525,-1.6186608038678525]|[0.8346103554792438,0.16538964452075622]|0.0       |0        |\n",
      "|[1.6891997557856198,-1.6891997557856198]|[0.844118890985372,0.15588110901462804] |0.0       |0        |\n",
      "|[1.605299234095905,-1.605299234095905]  |[0.8327577236312894,0.16724227636871059]|0.0       |0        |\n",
      "|[1.3812207356778892,-1.3812207356778892]|[0.799186984192005,0.20081301580799504] |0.0       |0        |\n",
      "|[1.6749341919694605,-1.6749341919694605]|[0.8422325688129235,0.15776743118707648]|0.0       |0        |\n",
      "|[1.7030464802237617,-1.7030464802237617]|[0.8459322040325745,0.15406779596742548]|0.0       |0        |\n",
      "|[1.5773442268991307,-1.5773442268991307]|[0.8288280668374576,0.17117193316254242]|0.0       |0        |\n",
      "|[1.7032782104434214,-1.7032782104434214]|[0.8459624032220355,0.15403759677796447]|0.0       |0        |\n",
      "|[1.6473445293169446,-1.6473445293169446]|[0.8385318329225062,0.16146816707749378]|0.0       |0        |\n",
      "|[1.6193776887537064,-1.6193776887537064]|[0.834709287601044,0.16529071239895599] |0.0       |0        |\n",
      "|[1.5789663384367476,-1.5789663384367476]|[0.8290580764751145,0.17094192352488546]|0.0       |0        |\n",
      "|[1.6489882114867107,-1.6489882114867107]|[0.8387542574234887,0.16124574257651125]|0.0       |0        |\n",
      "|[1.6212629620035433,-1.6212629620035433]|[0.8349692340641446,0.16503076593585542]|0.0       |0        |\n",
      "|[1.2017603535549684,-1.2017603535549684]|[0.7688377925702524,0.23116220742974758]|0.0       |1        |\n",
      "|[1.6076024849003856,-1.6076024849003856]|[0.8330782568560181,0.1669217431439819] |0.0       |0        |\n",
      "|[1.6900608722689099,-1.6900608722689099]|[0.8442321650040254,0.15576783499597457]|0.0       |0        |\n",
      "|[0.7538157508460226,-0.7538157508460226]|[0.6800095631113415,0.31999043688865847]|0.0       |1        |\n",
      "|[1.1598070277051569,-1.1598070277051569]|[0.7612976490028758,0.23870235099712422]|0.0       |1        |\n",
      "|[1.6349514832014667,-1.6349514832014667]|[0.8368468137642465,0.16315318623575348]|0.0       |0        |\n",
      "|[1.6488851178647428,-1.6488851178647428]|[0.8387403139826268,0.16125968601737317]|0.0       |0        |\n",
      "|[1.565150998194464,-1.565150998194464]  |[0.8270912456210875,0.1729087543789125] |0.0       |0        |\n",
      "|[1.4253167953782726,-1.4253167953782726]|[0.8061705692911373,0.19382943070886272]|0.0       |0        |\n",
      "|[1.621392831208786,-1.621392831208786]  |[0.8349871286923103,0.1650128713076897] |0.0       |0        |\n",
      "|[1.5794425703639283,-1.5794425703639283]|[0.8291255578602481,0.1708744421397519] |0.0       |0        |\n",
      "|[1.593490702541995,-1.593490702541995]  |[0.8311066538180324,0.1688933461819676] |0.0       |0        |\n",
      "|[1.6640493761805846,-1.6640493761805846]|[0.8407808349968012,0.15921916500319877]|0.0       |0        |\n",
      "|[1.3144638691401056,-1.3144638691401056]|[0.7882591640292267,0.2117408359707733] |0.0       |0        |\n",
      "|[1.5802345207156905,-1.5802345207156905]|[0.8292377292655965,0.17076227073440353]|0.0       |0        |\n",
      "|[1.6226494746074187,-1.6226494746074187]|[0.8351602006943046,0.16483979930569537]|0.0       |0        |\n",
      "|[1.6086660543257993,-1.6086660543257993]|[0.8332261032348082,0.16677389676519183]|0.0       |0        |\n",
      "|[1.5667157934809417,-1.5667157934809417]|[0.8273149145296173,0.17268508547038275]|0.0       |0        |\n",
      "|[1.553113865236475,-1.553113865236475]  |[0.8253630157936476,0.17463698420635243]|0.0       |0        |\n",
      "|[1.6370267130017038,-1.6370267130017038]|[0.8371299556272035,0.1628700443727965] |0.0       |0        |\n",
      "|[1.6230432927200846,-1.6230432927200846]|[0.8352144095485693,0.1647855904514307] |0.0       |0        |\n",
      "|[1.6650305317914835,-1.6650305317914835]|[0.8409121368381688,0.1590878631618312] |0.0       |0        |\n",
      "|[1.623080270946626,-1.623080270946626]  |[0.8352194988468606,0.16478050115313936]|0.0       |0        |\n",
      "|[1.4274165423420495,-1.4274165423420495]|[0.8064984639574201,0.1935015360425799] |0.0       |0        |\n",
      "|[1.6372954214479047,-1.6372954214479047]|[0.8371665889296723,0.16283341107032767]|0.0       |0        |\n",
      "|[1.679379420212087,-1.679379420212087]  |[0.8428223386340048,0.1571776613659952] |0.0       |0        |\n",
      "|[1.6374291593672297,-1.6374291593672297]|[0.8371848190857526,0.1628151809142474] |0.0       |0        |\n",
      "|[1.6703420934365056,-1.6703420934365056]|[0.8416214257609479,0.1583785742390521] |0.0       |0        |\n",
      "|[1.60042499202841,-1.60042499202841]    |[0.8320777752502101,0.1679222247497899] |0.0       |0        |\n",
      "|[1.5864415717467906,-1.5864415717467906]|[0.8301148679858431,0.1698851320141569] |0.0       |0        |\n",
      "|[1.460590789212218,-1.460590789212218]  |[0.8116230178254533,0.18837698217454668]|0.0       |0        |\n",
      "|[1.5737406796223832,-1.5737406796223832]|[0.8283162180489436,0.17168378195105638]|0.0       |0        |\n",
      "|[1.6301644749023825,-1.6301644749023825]|[0.8361921689434595,0.1638078310565405] |0.0       |0        |\n",
      "|[1.7136067997933675,-1.7136067997933675]|[0.8473035177291599,0.1526964822708401] |0.0       |0        |\n",
      "|[1.657673118666891,-1.657673118666891]  |[0.8399253995791974,0.16007460042080257]|0.0       |1        |\n",
      "|[1.6297062781036527,-1.6297062781036527]|[0.8361293978485922,0.1638706021514078] |0.0       |0        |\n",
      "|[1.322071031908031,-1.322071031908031]  |[0.7895260659004467,0.21047393409955328]|0.0       |0        |\n",
      "|[1.4909882014252362,-1.4909882014252362]|[0.8162265498782841,0.18377345012171586]|0.0       |0        |\n",
      "|[1.6309721660589205,-1.6309721660589205]|[0.8363027722595419,0.16369722774045814]|0.0       |0        |\n",
      "|[1.4491877023978716,-1.4491877023978716]|[0.8098733891142416,0.19012661088575844]|0.0       |0        |\n",
      "|[1.6875252324799659,-1.6875252324799659]|[0.8438984265556776,0.1561015734443224] |0.0       |0        |\n",
      "|[-0.1305512140995173,0.1305512140995173]|[0.4674084731299416,0.5325915268700584] |1.0       |1        |\n",
      "|[1.644503659660368,-1.644503659660368]  |[0.8381468199541274,0.16185318004587257]|0.0       |0        |\n",
      "|[1.560603137970653,-1.560603137970653]  |[0.826439882318031,0.173560117681969]   |0.0       |0        |\n",
      "|[1.4631580042876104,-1.4631580042876104]|[0.8120152081798394,0.1879847918201606] |0.0       |0        |\n",
      "|[1.5762912544958319,-1.5762912544958319]|[0.8286786276997417,0.17132137230025835]|0.0       |0        |\n",
      "|[1.5765642770684625,-1.5765642770684625]|[0.82871738533436,0.17128261466564]     |0.0       |0        |\n",
      "|[1.5766690487103299,-1.5766690487103299]|[0.8287322566203684,0.17126774337963158]|0.0       |1        |\n",
      "|[1.716764564327414,-1.716764564327414]  |[0.8477116222379033,0.1522883777620967] |0.0       |0        |\n",
      "|[1.6232886280030034,-1.6232886280030034]|[0.835248172585564,0.16475182741443595] |0.0       |0        |\n",
      "|[1.2877147938041318,-1.2877147938041318]|[0.7837601431660339,0.21623985683396607]|0.0       |0        |\n",
      "|[1.6380922511963727,-1.6380922511963727]|[0.8372751825372012,0.16272481746279877]|0.0       |0        |\n",
      "|[1.7216551682833343,-1.7216551682833343]|[0.8483419096438223,0.15165809035617772]|0.0       |0        |\n",
      "|[1.6657214871568575,-1.6657214871568575]|[0.8410045503250899,0.15899544967491008]|0.0       |0        |\n",
      "|[1.623771226312,-1.623771226312]        |[0.8353145715495334,0.16468542845046663]|0.0       |0        |\n",
      "|[0.9665630987587299,-0.9665630987587299]|[0.7244339207044881,0.2755660792955119] |0.0       |1        |\n",
      "|[1.6384211705824572,-1.6384211705824572]|[0.837319991336053,0.16268000866394705] |0.0       |0        |\n",
      "|[1.624967155244156,-1.624967155244156]  |[0.8354790225158455,0.1645209774841545] |0.0       |0        |\n",
      "|[1.639520040214513,-1.639520040214513]  |[0.8374696186310105,0.16253038136898945]|0.0       |0        |\n",
      "|[1.6259969988533345,-1.6259969988533345]|[0.8356205295576384,0.16437947044236156]|0.0       |0        |\n",
      "|[1.6820212766348375,-1.6820212766348375]|[0.8431719959844965,0.15682800401550345]|0.0       |0        |\n",
      "|[1.666564974624596,-1.666564974624596]  |[0.8411173055693363,0.15888269443066372]|0.0       |0        |\n",
      "|[1.6114635855382569,-1.6114635855382569]|[0.8336144868821551,0.16638551311784489]|0.0       |0        |\n",
      "|[1.5834967449750186,-1.5834967449750186]|[0.8296991724127875,0.17030082758721254]|0.0       |0        |\n",
      "|[1.3317951799058738,-1.3317951799058738]|[0.7911374235556705,0.20886257644432948]|0.0       |0        |\n",
      "|[1.5977254541593626,-1.5977254541593626]|[0.8317002458635453,0.1682997541364547] |0.0       |0        |\n",
      "|[1.667778758701886,-1.667778758701886]  |[0.841279447286518,0.15872055271348195] |0.0       |0        |\n",
      "|[1.5978764485844068,-1.5978764485844068]|[0.8317213802416191,0.16827861975838088]|0.0       |0        |\n",
      "|[0.2275012609857292,-0.2275012609857292]|[0.5566312711245995,0.44336872887540046]|0.0       |1        |\n",
      "|[1.6818552408536342,-1.6818552408536342]|[0.8431500393271526,0.1568499606728474] |0.0       |0        |\n",
      "|[1.5840360107787474,-1.5840360107787474]|[0.8297753562910757,0.17022464370892432]|0.0       |0        |\n",
      "|[1.6825615249805754,-1.6825615249805754]|[0.8432434213899549,0.1567565786100451] |0.0       |0        |\n",
      "|[1.640611264135718,-1.640611264135718]  |[0.8376180950718082,0.16238190492819182]|0.0       |0        |\n",
      "|[1.5846775830092412,-1.5846775830092412]|[0.8298659580508818,0.1701340419491182] |0.0       |0        |\n",
      "|[1.3469594382217154,-1.3469594382217154]|[0.7936320889836468,0.2063679110163532] |0.0       |0        |\n",
      "|[1.5987466695156813,-1.5987466695156813]|[0.8318431420121271,0.16815685798787294]|0.0       |0        |\n",
      "+----------------------------------------+----------------------------------------+----------+---------+\n",
      "only showing top 100 rows\n",
      "\n"
     ]
    }
   ],
   "source": [
    "prediction.select(\"rawPrediction\", \"probability\", \"prediction\", \"trueLabel\").show(100, truncate=False)"
   ]
  },
  {
   "cell_type": "markdown",
   "metadata": {},
   "source": [
    "Note that the results include rows where the probability for 0 (the first value in the probability vector) is only slightly higher than the probability for 1 (the second value in the probability vector). The default discrimination threshold (the boundary that decides whether a probability is predicted as a 1 or a 0) is set to 0.5; so the prediction with the highest probability is always used, no matter how close to the threshold.\n",
    "\n",
    "And we can see from the results above that for those *truelabel* 1s that we predicted 0s, many of them the problibilty of 1 is just slightly less than the threshold 0.5."
   ]
  },
  {
   "cell_type": "markdown",
   "metadata": {},
   "source": [
    "## Tune Parameters \n",
    "To find the best performing parameters, we can use the **CrossValidator** class to evaluate each combination of parameters defined in a **ParameterGrid** against multiple *folds* of the data split into training and validation datasets. Note that this can take a long time to run because every parameter combination is tried multiple times."
   ]
  },
  {
   "cell_type": "markdown",
   "metadata": {},
   "source": [
    "### Change the Discrimination Threshold\n",
    "The AUC score seems to indicate a reasonably good model, but the performance metrics seem to indicate that it predicts a high number of *False Negative* labels (i.e. it predicts 0 when the true label is 1), leading to a low *Recall*. We can improve this by lowering the threshold. Conversely, sometimes we may want to address a large number of *False Positive* by raising the threshold. \n",
    "\n",
    "In this case, I'll let the **CrossValidator** find the best threshold from 0.45, 0.4 and 0.35, regularization parameter from 0.3 and 0.1, and the maximum number of iterations allowed from 10 and 5."
   ]
  },
  {
   "cell_type": "code",
   "execution_count": 17,
   "metadata": {},
   "outputs": [],
   "source": [
    "paramGrid = ParamGridBuilder().addGrid(lr.regParam, [0.3, 0.1]).addGrid(lr.maxIter, [10, 5]).addGrid(lr.threshold, \n",
    "                                                                                            [0.4, 0.3]).build()\n",
    "cv = CrossValidator(estimator=pipeline, evaluator=BinaryClassificationEvaluator(), estimatorParamMaps=paramGrid, \n",
    "                    numFolds=2)\n",
    "\n",
    "model = cv.fit(train)"
   ]
  },
  {
   "cell_type": "code",
   "execution_count": 18,
   "metadata": {},
   "outputs": [
    {
     "name": "stdout",
     "output_type": "stream",
     "text": [
      "+--------------------+----------+---------+\n",
      "|            features|prediction|trueLabel|\n",
      "+--------------------+----------+---------+\n",
      "|[10.0,1.0,0.0,104...|       0.0|        0|\n",
      "|[10.0,1.0,0.0,105...|       0.0|        0|\n",
      "|[10.0,1.0,0.0,105...|       0.0|        0|\n",
      "|[10.0,1.0,0.0,106...|       0.0|        0|\n",
      "|[10.0,1.0,0.0,107...|       0.0|        1|\n",
      "|[10.0,1.0,0.0,107...|       0.0|        1|\n",
      "|[10.0,1.0,0.0,108...|       0.0|        0|\n",
      "|[10.0,1.0,0.0,108...|       0.0|        0|\n",
      "|[10.0,1.0,0.0,108...|       0.0|        0|\n",
      "|[10.0,1.0,0.0,108...|       0.0|        0|\n",
      "|[10.0,1.0,0.0,110...|       0.0|        0|\n",
      "|[10.0,1.0,0.0,110...|       0.0|        0|\n",
      "|[10.0,1.0,0.0,110...|       0.0|        0|\n",
      "|[10.0,1.0,0.0,110...|       0.0|        0|\n",
      "|[10.0,1.0,0.0,111...|       0.0|        0|\n",
      "|[10.0,1.0,0.0,111...|       0.0|        0|\n",
      "|[10.0,1.0,0.0,111...|       0.0|        0|\n",
      "|[10.0,1.0,0.0,111...|       0.0|        0|\n",
      "|[10.0,1.0,0.0,111...|       0.0|        0|\n",
      "|[10.0,1.0,0.0,111...|       0.0|        0|\n",
      "+--------------------+----------+---------+\n",
      "only showing top 20 rows\n",
      "\n"
     ]
    }
   ],
   "source": [
    "newPrediction = model.transform(test)\n",
    "newPredicted = prediction.select(\"features\", \"prediction\", \"trueLabel\")\n",
    "newPredicted.show()"
   ]
  },
  {
   "cell_type": "markdown",
   "metadata": {},
   "source": [
    "Note that some of the **rawPrediction** and **probability** values that were previously predicted as 0 are now predicted as 1"
   ]
  },
  {
   "cell_type": "code",
   "execution_count": 19,
   "metadata": {},
   "outputs": [
    {
     "name": "stdout",
     "output_type": "stream",
     "text": [
      "+---------+------------------+\n",
      "|   metric|             value|\n",
      "+---------+------------------+\n",
      "|       TP|           87991.0|\n",
      "|       FP|            1711.0|\n",
      "|       TN|          647225.0|\n",
      "|       FN|           73577.0|\n",
      "|Precision|0.9809257318677399|\n",
      "|   Recall|  0.54460660526837|\n",
      "|       F1|0.7003701197914595|\n",
      "+---------+------------------+\n",
      "\n"
     ]
    }
   ],
   "source": [
    "# Recalculate confusion matrix\n",
    "tp2 = float(newPrediction.filter(\"prediction == 1.0 AND truelabel == 1\").count())\n",
    "fp2 = float(newPrediction.filter(\"prediction == 1.0 AND truelabel == 0\").count())\n",
    "tn2 = float(newPrediction.filter(\"prediction == 0.0 AND truelabel == 0\").count())\n",
    "fn2 = float(newPrediction.filter(\"prediction == 0.0 AND truelabel == 1\").count())\n",
    "pr2 = tp2 / (tp2 + fp2)\n",
    "re2 = tp2 / (tp2 + fn2)\n",
    "metrics2 = spark.createDataFrame([\n",
    " (\"TP\", tp2),\n",
    " (\"FP\", fp2),\n",
    " (\"TN\", tn2),\n",
    " (\"FN\", fn2),\n",
    " (\"Precision\", pr2),\n",
    " (\"Recall\", re2),\n",
    " (\"F1\", 2*pr2*re2/(re2+pr2))],[\"metric\", \"value\"])\n",
    "metrics2.show()"
   ]
  },
  {
   "cell_type": "code",
   "execution_count": 20,
   "metadata": {},
   "outputs": [
    {
     "name": "stdout",
     "output_type": "stream",
     "text": [
      "AUR2 =  0.9225932404410861\n"
     ]
    }
   ],
   "source": [
    "# Recalculate the Area Under ROC\n",
    "evaluator2 = BinaryClassificationEvaluator(labelCol=\"trueLabel\", rawPredictionCol=\"prediction\", metricName=\"areaUnderROC\")\n",
    "aur2 = evaluator.evaluate(prediction)\n",
    "print( \"AUR2 = \", aur2)"
   ]
  },
  {
   "cell_type": "markdown",
   "metadata": {},
   "source": [
    "Looks pretty good! The new model improves the *Recall* from 0.11 to 0.37, the *F1* score from 0.20 to 0.54, without compromising other metrics.\n",
    "\n",
    "## Next Step\n",
    "\n",
    "There is still much room to improve the model. For example, I can try more options of lower threshold, or use different classfication models, or prepare data better like adding new features. I'll write another one for this."
   ]
  },
  {
   "cell_type": "code",
   "execution_count": null,
   "metadata": {},
   "outputs": [],
   "source": []
  },
  {
   "cell_type": "code",
   "execution_count": null,
   "metadata": {},
   "outputs": [],
   "source": []
  },
  {
   "cell_type": "code",
   "execution_count": null,
   "metadata": {},
   "outputs": [],
   "source": []
  }
 ],
 "metadata": {
  "kernelspec": {
   "display_name": "py3",
   "language": "python",
   "name": "py3"
  },
  "language_info": {
   "codemirror_mode": {
    "name": "ipython",
    "version": 3
   },
   "file_extension": ".py",
   "mimetype": "text/x-python",
   "name": "python",
   "nbconvert_exporter": "python",
   "pygments_lexer": "ipython3",
   "version": "3.6.9"
  }
 },
 "nbformat": 4,
 "nbformat_minor": 4
}
