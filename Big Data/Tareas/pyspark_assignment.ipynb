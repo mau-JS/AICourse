{
 "cells": [
  {
   "cell_type": "code",
   "execution_count": 8,
   "metadata": {
    "_cell_guid": "b1076dfc-b9ad-4769-8c92-a6c4dae69d19",
    "_uuid": "8f2839f25d086af736a60e9eeb907d3b93b6e0e5"
   },
   "outputs": [],
   "source": [
    "# This Python 3 environment comes with many helpful analytics libraries installed\n",
    "# It is defined by the kaggle/python docker image: https://github.com/kaggle/docker-python\n",
    "# For example, here's several helpful packages to load in \n",
    "\n",
    "import numpy as np # linear algebra\n",
    "import pandas as pd # data processing, CSV file I/O (e.g. pd.read_csv)\n",
    "\n",
    "# Input data files are available in the \"../input/\" directory.\n",
    "# For example, running this (by clicking run or pressing Shift+Enter) will list the files in the input directory\n",
    "\n",
    "#import os\n",
    "#print(os.listdir('input/'))\n",
    "\n",
    "# Any results you write to the current directory are saved as output."
   ]
  },
  {
   "cell_type": "markdown",
   "metadata": {},
   "source": [
    "## Machine Learning with Spark"
   ]
  },
  {
   "cell_type": "markdown",
   "metadata": {},
   "source": [
    "This is a tutorial of machine learning with PySpark. I will create a classification model and a regression model using Pipelines."
   ]
  },
  {
   "cell_type": "markdown",
   "metadata": {},
   "source": [
    "### Install Spark\n",
    "Uncommet the code below to install PySpark and sparkmagic."
   ]
  },
  {
   "cell_type": "code",
   "execution_count": 9,
   "metadata": {},
   "outputs": [],
   "source": [
    "#!pip install sparkmagic\n",
    "#!pip install pyspark"
   ]
  },
  {
   "cell_type": "markdown",
   "metadata": {},
   "source": [
    "### Import Spark SQL and Spark ML Libraries\n",
    "\n",
    "We'll train a **LogisticRegression** model with a **Pipleline** preparing the data, a **CrossValidator** to tuene the parameters of the model, and a **BinaryClassificationEvaluator** to evaluate our trained model."
   ]
  },
  {
   "cell_type": "code",
   "execution_count": 10,
   "metadata": {},
   "outputs": [],
   "source": [
    "from pyspark.sql.types import *\n",
    "from pyspark.sql.functions import *\n",
    "from pyspark.sql import SparkSession\n",
    "\n",
    "from pyspark.ml import Pipeline\n",
    "#from pyspark.ml.classification import DecisionTreeClassifier\n",
    "from pyspark.ml.feature import VectorAssembler, StringIndexer, VectorIndexer, MinMaxScaler\n",
    "from pyspark.ml.classification import LogisticRegression\n",
    "from pyspark.ml.tuning import ParamGridBuilder, CrossValidator\n",
    "from pyspark.ml.evaluation import BinaryClassificationEvaluator\n",
    "\n",
    "spark = SparkSession.builder.master(\"local[*]\").getOrCreate()"
   ]
  },
  {
   "cell_type": "markdown",
   "metadata": {},
   "source": [
    "### Load Source Data\n",
    "The data from the flight.csv file data includes specific characteristics (or features) for each flight, as well as a column indicating how many minutes late or early the flight arrived."
   ]
  },
  {
   "cell_type": "code",
   "execution_count": 11,
   "metadata": {},
   "outputs": [
    {
     "name": "stdout",
     "output_type": "stream",
     "text": [
      "+----------+---------+-------+---------------+-------------+--------+--------+\n",
      "|DayofMonth|DayOfWeek|Carrier|OriginAirportID|DestAirportID|DepDelay|ArrDelay|\n",
      "+----------+---------+-------+---------------+-------------+--------+--------+\n",
      "|        19|        5|     DL|          11433|        13303|      -3|       1|\n",
      "|        19|        5|     DL|          14869|        12478|       0|      -8|\n",
      "|        19|        5|     DL|          14057|        14869|      -4|     -15|\n",
      "|        19|        5|     DL|          15016|        11433|      28|      24|\n",
      "|        19|        5|     DL|          11193|        12892|      -6|     -11|\n",
      "|        19|        5|     DL|          10397|        15016|      -1|     -19|\n",
      "|        19|        5|     DL|          15016|        10397|       0|      -1|\n",
      "|        19|        5|     DL|          10397|        14869|      15|      24|\n",
      "|        19|        5|     DL|          10397|        10423|      33|      34|\n",
      "|        19|        5|     DL|          11278|        10397|     323|     322|\n",
      "+----------+---------+-------+---------------+-------------+--------+--------+\n",
      "only showing top 10 rows\n",
      "\n"
     ]
    }
   ],
   "source": [
    "csv = spark.read.csv('flights.csv', inferSchema=True, header=True)\n",
    "csv.show(10)"
   ]
  },
  {
   "cell_type": "markdown",
   "metadata": {},
   "source": [
    "### Prepare the Data for a Classification Model (Decision Tree Learning Model)\n",
    "I select a subset of columns to use as features and create a Boolean label field named *label* with values 1 or 0. Specifically, **1** for flight that arrived late, **0** for flight was early or on-time."
   ]
  },
  {
   "cell_type": "code",
   "execution_count": 12,
   "metadata": {},
   "outputs": [
    {
     "name": "stdout",
     "output_type": "stream",
     "text": [
      "+----------+---------+-------+---------------+-------------+--------+-----+\n",
      "|DayofMonth|DayOfWeek|Carrier|OriginAirportID|DestAirportID|DepDelay|label|\n",
      "+----------+---------+-------+---------------+-------------+--------+-----+\n",
      "|        19|        5|     DL|          11433|        13303|      -3|    0|\n",
      "|        19|        5|     DL|          14869|        12478|       0|    0|\n",
      "|        19|        5|     DL|          14057|        14869|      -4|    0|\n",
      "|        19|        5|     DL|          15016|        11433|      28|    1|\n",
      "|        19|        5|     DL|          11193|        12892|      -6|    0|\n",
      "|        19|        5|     DL|          10397|        15016|      -1|    0|\n",
      "|        19|        5|     DL|          15016|        10397|       0|    0|\n",
      "|        19|        5|     DL|          10397|        14869|      15|    1|\n",
      "|        19|        5|     DL|          10397|        10423|      33|    1|\n",
      "|        19|        5|     DL|          11278|        10397|     323|    1|\n",
      "+----------+---------+-------+---------------+-------------+--------+-----+\n",
      "only showing top 10 rows\n",
      "\n"
     ]
    }
   ],
   "source": [
    "data = csv.select(\"DayofMonth\", \"DayOfWeek\", \"Carrier\", \"OriginAirportID\", \"DestAirportID\", \"DepDelay\", ((col(\"ArrDelay\") > 15).cast(\"Int\").alias(\"label\")))\n",
    "data.show(10)\n"
   ]
  },
  {
   "cell_type": "code",
   "execution_count": 13,
   "metadata": {},
   "outputs": [
    {
     "data": {
      "text/plain": [
       "pyspark.sql.dataframe.DataFrame"
      ]
     },
     "execution_count": 13,
     "metadata": {},
     "output_type": "execute_result"
    }
   ],
   "source": [
    "type(data)"
   ]
  },
  {
   "cell_type": "markdown",
   "metadata": {},
   "source": [
    "### Split the Data\n",
    "\n",
    "I will use 70% of the data for training, and reserve 30% for testing. In the testing data, the *label* column is renamed to *trueLabel* so I can use it later to compare predicted labels with known actual values."
   ]
  },
  {
   "cell_type": "code",
   "execution_count": 14,
   "metadata": {},
   "outputs": [
    {
     "name": "stderr",
     "output_type": "stream",
     "text": [
      "[Stage 14:=======>                                                  (1 + 7) / 8]\r"
     ]
    },
    {
     "name": "stdout",
     "output_type": "stream",
     "text": [
      "Training Rows: 1891822  Testing Rows: 810396\n"
     ]
    },
    {
     "name": "stderr",
     "output_type": "stream",
     "text": [
      "                                                                                \r"
     ]
    }
   ],
   "source": [
    "    splits = data.randomSplit([0.7, 0.3])\n",
    "    train = splits[0]\n",
    "    test = splits[1].withColumnRenamed(\"label\", \"trueLabel\")\n",
    "    train_rows = train.count()\n",
    "    test_rows = test.count()\n",
    "    print(\"Training Rows:\", train_rows, \" Testing Rows:\", test_rows)"
   ]
  },
  {
   "cell_type": "markdown",
   "metadata": {},
   "source": [
    "### Define the Pipeline\n",
    "\n",
    "A pipeline consists of a series of transformer and estimator stages that typically prepare a DataFrame for modeling and then train a predictive model. In this case, you will create a pipeline with seven stages:\n",
    "* A **StringIndexer estimator** that converts string values to indexes for categorical features\n",
    "* A **VectorAssembler** that combines categorical features into a single vector\n",
    "* A **VectorIndexer** that creates indexes for a vector of categorical features\n",
    "* A **VectorAssembler** that creates a vector of continuous numeric features\n",
    "* A **MinMaxScaler** that normalizes continuous numeric features\n",
    "* A **VectorAssembler** that creates a vector of categorical and continuous features\n",
    "* A **DecisionTreeClassifier** that trains a classification model."
   ]
  },
  {
   "cell_type": "code",
   "execution_count": 15,
   "metadata": {},
   "outputs": [],
   "source": [
    "strIdx = StringIndexer(inputCol = \"Carrier\", outputCol = \"CarrierIdx\")\n",
    "catVect = VectorAssembler(inputCols = [\"CarrierIdx\", \"DayofMonth\", \"DayOfWeek\", \"OriginAirportID\", \"DestAirportID\"], outputCol=\"catFeatures\")\n",
    "catIdx = VectorIndexer(inputCol = catVect.getOutputCol(), outputCol = \"idxCatFeatures\")\n",
    "numVect = VectorAssembler(inputCols = [\"DepDelay\"], outputCol=\"numFeatures\")\n",
    "minMax = MinMaxScaler(inputCol = numVect.getOutputCol(), outputCol=\"normFeatures\")\n",
    "featVect = VectorAssembler(inputCols=[\"idxCatFeatures\", \"normFeatures\"], outputCol=\"features\")\n",
    "lr = LogisticRegression(labelCol=\"label\",featuresCol=\"features\",maxIter=10,regParam=0.3)\n",
    "#dt = DecisionTreeClassifier(labelCol=\"label\", featuresCol=\"features\")\n",
    "pipeline = Pipeline(stages=[strIdx, catVect, catIdx, numVect, minMax, featVect, lr])"
   ]
  },
  {
   "cell_type": "markdown",
   "metadata": {},
   "source": [
    "### Run the Pipeline to train a model\n",
    "Run the pipeline as an Estimator on the training data to train a model."
   ]
  },
  {
   "cell_type": "code",
   "execution_count": 16,
   "metadata": {},
   "outputs": [
    {
     "name": "stderr",
     "output_type": "stream",
     "text": [
      "23/09/19 20:09:42 WARN InstanceBuilder: Failed to load implementation from:dev.ludovic.netlib.blas.JNIBLAS\n",
      "23/09/19 20:09:42 WARN InstanceBuilder: Failed to load implementation from:dev.ludovic.netlib.blas.VectorBLAS\n",
      "                                                                                \r"
     ]
    }
   ],
   "source": [
    "piplineModel = pipeline.fit(train)"
   ]
  },
  {
   "cell_type": "markdown",
   "metadata": {},
   "source": [
    "### Generate label predictions\n",
    "Transform the test data with all of the stages and the trained model in the pipeline to generate label predictions."
   ]
  },
  {
   "cell_type": "code",
   "execution_count": 17,
   "metadata": {},
   "outputs": [
    {
     "name": "stdout",
     "output_type": "stream",
     "text": [
      "+---------------------------------------------------+----------+---------+\n",
      "|features                                           |prediction|trueLabel|\n",
      "+---------------------------------------------------+----------+---------+\n",
      "|[10.0,1.0,0.0,10397.0,12264.0,0.03115264797507788] |0.0       |0        |\n",
      "|[10.0,1.0,0.0,10397.0,12264.0,0.04465212876427829] |0.0       |0        |\n",
      "|[10.0,1.0,0.0,10397.0,13851.0,0.03167185877466251] |0.0       |0        |\n",
      "|[10.0,1.0,0.0,10423.0,13487.0,0.027518172377985463]|0.0       |0        |\n",
      "|[10.0,1.0,0.0,10423.0,13487.0,0.029595015576323987]|0.0       |0        |\n",
      "|[10.0,1.0,0.0,10423.0,14869.0,0.027518172377985463]|0.0       |0        |\n",
      "|[10.0,1.0,0.0,10423.0,14869.0,0.05036344755970924] |0.0       |1        |\n",
      "|[10.0,1.0,0.0,10792.0,11433.0,0.028037383177570093]|0.0       |0        |\n",
      "|[10.0,1.0,0.0,10792.0,11433.0,0.029595015576323987]|0.0       |0        |\n",
      "|[10.0,1.0,0.0,10792.0,11433.0,0.03686396677050883] |0.0       |1        |\n",
      "|[10.0,1.0,0.0,10821.0,11193.0,0.05659397715472482] |0.0       |1        |\n",
      "|[10.0,1.0,0.0,10821.0,12478.0,0.027518172377985463]|0.0       |0        |\n",
      "|[10.0,1.0,0.0,10821.0,12478.0,0.029595015576323987]|0.0       |1        |\n",
      "|[10.0,1.0,0.0,10821.0,14492.0,0.029075804776739357]|0.0       |0        |\n",
      "|[10.0,1.0,0.0,11042.0,11433.0,0.029075804776739357]|0.0       |0        |\n",
      "|[10.0,1.0,0.0,11042.0,13487.0,0.02596053997923157] |0.0       |0        |\n",
      "|[10.0,1.0,0.0,11042.0,13487.0,0.028037383177570093]|0.0       |0        |\n",
      "|[10.0,1.0,0.0,11057.0,11193.0,0.03167185877466251] |0.0       |0        |\n",
      "|[10.0,1.0,0.0,11057.0,13244.0,0.030633437175493248]|0.0       |0        |\n",
      "|[10.0,1.0,0.0,11193.0,10529.0,0.03167185877466251] |0.0       |0        |\n",
      "|[10.0,1.0,0.0,11193.0,10821.0,0.028556593977154723]|0.0       |0        |\n",
      "|[10.0,1.0,0.0,11193.0,10821.0,0.03426791277258567] |0.0       |0        |\n",
      "|[10.0,1.0,0.0,11193.0,11057.0,0.029075804776739357]|0.0       |0        |\n",
      "|[10.0,1.0,0.0,11193.0,11057.0,0.033229491173416406]|0.0       |0        |\n",
      "|[10.0,1.0,0.0,11193.0,11278.0,0.05088265835929387] |0.0       |1        |\n",
      "|[10.0,1.0,0.0,11193.0,11298.0,0.03115264797507788] |0.0       |0        |\n",
      "|[10.0,1.0,0.0,11193.0,13198.0,0.027518172377985463]|0.0       |0        |\n",
      "|[10.0,1.0,0.0,11193.0,13487.0,0.029595015576323987]|0.0       |0        |\n",
      "|[10.0,1.0,0.0,11193.0,13487.0,0.03115264797507788] |0.0       |0        |\n",
      "|[10.0,1.0,0.0,11193.0,14100.0,0.029075804776739357]|0.0       |0        |\n",
      "|[10.0,1.0,0.0,11278.0,11193.0,0.040498442367601244]|0.0       |0        |\n",
      "|[10.0,1.0,0.0,11278.0,12478.0,0.0628245067497404]  |0.0       |1        |\n",
      "|[10.0,1.0,0.0,11278.0,13244.0,0.03115264797507788] |0.0       |0        |\n",
      "|[10.0,1.0,0.0,11298.0,13244.0,0.029075804776739357]|0.0       |0        |\n",
      "|[10.0,1.0,0.0,11433.0,10529.0,0.03374870197300104] |0.0       |0        |\n",
      "|[10.0,1.0,0.0,11433.0,10693.0,0.03271028037383177] |0.0       |0        |\n",
      "|[10.0,1.0,0.0,11433.0,10693.0,0.03790238836967809] |0.0       |0        |\n",
      "|[10.0,1.0,0.0,11433.0,10792.0,0.03115264797507788] |0.0       |0        |\n",
      "|[10.0,1.0,0.0,11433.0,10792.0,0.032191069574247146]|0.0       |0        |\n",
      "|[10.0,1.0,0.0,11433.0,11298.0,0.03167185877466251] |0.0       |0        |\n",
      "|[10.0,1.0,0.0,11433.0,12264.0,0.03167185877466251] |0.0       |0        |\n",
      "|[10.0,1.0,0.0,11433.0,12478.0,0.032191069574247146]|0.0       |0        |\n",
      "|[10.0,1.0,0.0,11433.0,12478.0,0.03271028037383177] |0.0       |1        |\n",
      "|[10.0,1.0,0.0,11433.0,13198.0,0.030114226375908618]|0.0       |0        |\n",
      "|[10.0,1.0,0.0,11433.0,13232.0,0.030633437175493248]|0.0       |0        |\n",
      "|[10.0,1.0,0.0,11433.0,13232.0,0.03115264797507788] |0.0       |0        |\n",
      "|[10.0,1.0,0.0,11433.0,13232.0,0.03271028037383177] |0.0       |0        |\n",
      "|[10.0,1.0,0.0,11433.0,13342.0,0.03167185877466251] |0.0       |0        |\n",
      "|[10.0,1.0,0.0,11433.0,13851.0,0.033229491173416406]|0.0       |0        |\n",
      "|[10.0,1.0,0.0,11433.0,13871.0,0.030633437175493248]|0.0       |0        |\n",
      "|[10.0,1.0,0.0,11433.0,13930.0,0.036344755970924195]|0.0       |0        |\n",
      "|[10.0,1.0,0.0,11433.0,13931.0,0.029075804776739357]|0.0       |0        |\n",
      "|[10.0,1.0,0.0,11433.0,13931.0,0.030114226375908618]|0.0       |0        |\n",
      "|[10.0,1.0,0.0,11433.0,13931.0,0.030633437175493248]|0.0       |0        |\n",
      "|[10.0,1.0,0.0,11433.0,14122.0,0.029595015576323987]|0.0       |0        |\n",
      "|[10.0,1.0,0.0,11433.0,14122.0,0.032191069574247146]|0.0       |0        |\n",
      "|[10.0,1.0,0.0,11433.0,14307.0,0.030114226375908618]|0.0       |0        |\n",
      "|[10.0,1.0,0.0,11433.0,14492.0,0.030633437175493248]|0.0       |0        |\n",
      "|[10.0,1.0,0.0,11618.0,11193.0,0.029595015576323987]|0.0       |0        |\n",
      "|[10.0,1.0,0.0,11618.0,11193.0,0.030114226375908618]|0.0       |0        |\n",
      "|[10.0,1.0,0.0,12264.0,10397.0,0.032191069574247146]|0.0       |0        |\n",
      "|[10.0,1.0,0.0,12266.0,13244.0,0.030633437175493248]|0.0       |0        |\n",
      "|[10.0,1.0,0.0,12339.0,11433.0,0.02699896157840083] |0.0       |0        |\n",
      "|[10.0,1.0,0.0,12339.0,11433.0,0.030633437175493248]|0.0       |0        |\n",
      "|[10.0,1.0,0.0,12339.0,14492.0,0.027518172377985463]|0.0       |0        |\n",
      "|[10.0,1.0,0.0,12339.0,14492.0,0.028556593977154723]|0.0       |0        |\n",
      "|[10.0,1.0,0.0,12451.0,11193.0,0.03167185877466251] |0.0       |0        |\n",
      "|[10.0,1.0,0.0,12478.0,10693.0,0.030114226375908618]|0.0       |0        |\n",
      "|[10.0,1.0,0.0,12478.0,10721.0,0.033229491173416406]|0.0       |0        |\n",
      "|[10.0,1.0,0.0,12478.0,10721.0,0.033229491173416406]|0.0       |0        |\n",
      "|[10.0,1.0,0.0,12478.0,11042.0,0.03374870197300104] |0.0       |0        |\n",
      "|[10.0,1.0,0.0,12478.0,11278.0,0.0763239875389408]  |0.0       |1        |\n",
      "|[10.0,1.0,0.0,12478.0,11298.0,0.029595015576323987]|0.0       |0        |\n",
      "|[10.0,1.0,0.0,12478.0,11433.0,0.032191069574247146]|0.0       |0        |\n",
      "|[10.0,1.0,0.0,12478.0,11433.0,0.03686396677050883] |0.0       |0        |\n",
      "|[10.0,1.0,0.0,12478.0,12264.0,0.041536863966770504]|0.0       |1        |\n",
      "|[10.0,1.0,0.0,12478.0,13342.0,0.04101765316718588] |0.0       |1        |\n",
      "|[10.0,1.0,0.0,12478.0,13487.0,0.032191069574247146]|0.0       |0        |\n",
      "|[10.0,1.0,0.0,12478.0,13930.0,0.028037383177570093]|0.0       |0        |\n",
      "|[10.0,1.0,0.0,12478.0,14100.0,0.03167185877466251] |0.0       |0        |\n",
      "|[10.0,1.0,0.0,12478.0,14122.0,0.04465212876427829] |0.0       |1        |\n",
      "|[10.0,1.0,0.0,12478.0,14492.0,0.03686396677050883] |0.0       |0        |\n",
      "|[10.0,1.0,0.0,13198.0,11433.0,0.029595015576323987]|0.0       |0        |\n",
      "|[10.0,1.0,0.0,13204.0,14492.0,0.142263759086189]   |1.0       |1        |\n",
      "|[10.0,1.0,0.0,13232.0,11433.0,0.027518172377985463]|0.0       |0        |\n",
      "|[10.0,1.0,0.0,13232.0,11433.0,0.03115264797507788] |0.0       |0        |\n",
      "|[10.0,1.0,0.0,13244.0,11278.0,0.048286604361370715]|0.0       |1        |\n",
      "|[10.0,1.0,0.0,13244.0,11278.0,0.05555555555555555] |0.0       |1        |\n",
      "|[10.0,1.0,0.0,13244.0,13198.0,0.03115264797507788] |0.0       |0        |\n",
      "|[10.0,1.0,0.0,13244.0,14683.0,0.030114226375908618]|0.0       |0        |\n",
      "|[10.0,1.0,0.0,13244.0,14683.0,0.18016614745586707] |1.0       |1        |\n",
      "|[10.0,1.0,0.0,13244.0,15016.0,0.029075804776739357]|0.0       |0        |\n",
      "|[10.0,1.0,0.0,13342.0,11193.0,0.029595015576323987]|0.0       |0        |\n",
      "|[10.0,1.0,0.0,13342.0,11193.0,0.03115264797507788] |0.0       |0        |\n",
      "|[10.0,1.0,0.0,13342.0,11433.0,0.036344755970924195]|0.0       |0        |\n",
      "|[10.0,1.0,0.0,13342.0,12478.0,0.035306334371754934]|0.0       |0        |\n",
      "|[10.0,1.0,0.0,13487.0,10423.0,0.04205607476635514] |0.0       |0        |\n",
      "|[10.0,1.0,0.0,13487.0,11042.0,0.030114226375908618]|0.0       |0        |\n",
      "|[10.0,1.0,0.0,13487.0,11042.0,0.030114226375908618]|0.0       |0        |\n",
      "|[10.0,1.0,0.0,13487.0,11066.0,0.0264797507788162]  |0.0       |0        |\n",
      "+---------------------------------------------------+----------+---------+\n",
      "only showing top 100 rows\n",
      "\n"
     ]
    }
   ],
   "source": [
    "prediction = piplineModel.transform(test)\n",
    "predicted = prediction.select(\"features\", \"prediction\", \"trueLabel\")\n",
    "predicted.show(100, truncate=False)"
   ]
  },
  {
   "cell_type": "markdown",
   "metadata": {},
   "source": [
    "Looking into the results, some trueLabel 1s are predicted as 0. Let's evaluate the model."
   ]
  },
  {
   "cell_type": "markdown",
   "metadata": {},
   "source": [
    "## Evaluating a Classification Model\n",
    "We'll calculate a *Confusion Matrix* and the *Area Under ROC* (Receiver Operating Characteristic) to evaluate the model. \n",
    "### Compute Confusion Matrix\n",
    "Classifiers are typically evaluated by creating a *confusion matrix*, which indicates the number of:\n",
    "- True Positives\n",
    "- True Negatives\n",
    "- False Positives\n",
    "- False Negatives\n",
    "\n",
    "From these core measures, other evaluation metrics such as *precision*, *recall* and *F1* can be calculated."
   ]
  },
  {
   "cell_type": "code",
   "execution_count": 18,
   "metadata": {},
   "outputs": [
    {
     "name": "stderr",
     "output_type": "stream",
     "text": [
      "                                                                                \r"
     ]
    },
    {
     "name": "stdout",
     "output_type": "stream",
     "text": [
      "+---------+-------------------+\n",
      "|   metric|              value|\n",
      "+---------+-------------------+\n",
      "|       TP|            19353.0|\n",
      "|       FP|               82.0|\n",
      "|       TN|           648547.0|\n",
      "|       FN|           142414.0|\n",
      "|Precision| 0.9957808078209416|\n",
      "|   Recall|0.11963503063047469|\n",
      "|       F1|0.21360691383097313|\n",
      "+---------+-------------------+\n",
      "\n"
     ]
    }
   ],
   "source": [
    "tp = float(predicted.filter(\"prediction == 1.0 AND truelabel == 1\").count())\n",
    "fp = float(predicted.filter(\"prediction == 1.0 AND truelabel == 0\").count())\n",
    "tn = float(predicted.filter(\"prediction == 0.0 AND truelabel == 0\").count())\n",
    "fn = float(predicted.filter(\"prediction == 0.0 AND truelabel == 1\").count())\n",
    "pr = tp / (tp + fp)\n",
    "re = tp / (tp + fn)\n",
    "metrics = spark.createDataFrame([\n",
    " (\"TP\", tp),\n",
    " (\"FP\", fp),\n",
    " (\"TN\", tn),\n",
    " (\"FN\", fn),\n",
    " (\"Precision\", pr),\n",
    " (\"Recall\", re),\n",
    " (\"F1\", 2*pr*re/(re+pr))],[\"metric\", \"value\"])\n",
    "metrics.show()"
   ]
  },
  {
   "cell_type": "markdown",
   "metadata": {},
   "source": [
    "Looks like we've got a good *Precision*, but a low *Recall*, therefore our *F1* is not that good."
   ]
  },
  {
   "cell_type": "markdown",
   "metadata": {},
   "source": [
    "### Review the Area Under ROC\n",
    "Another way to assess the performance of a classification model is to measure the area under a ROC (Receiver Operating Characteristic) curve for the model. the spark.ml library includes a **BinaryClassificationEvaluator** class that we can use to compute this. The ROC curve shows the True Positive and False Positive rates plotted for varying thresholds."
   ]
  },
  {
   "cell_type": "code",
   "execution_count": 19,
   "metadata": {},
   "outputs": [
    {
     "name": "stderr",
     "output_type": "stream",
     "text": [
      "                                                                                \r"
     ]
    },
    {
     "name": "stdout",
     "output_type": "stream",
     "text": [
      "AUR =  0.922908583742521\n"
     ]
    }
   ],
   "source": [
    "evaluator = BinaryClassificationEvaluator(labelCol=\"trueLabel\", rawPredictionCol=\"rawPrediction\", metricName=\"areaUnderROC\")\n",
    "aur = evaluator.evaluate(prediction)\n",
    "print (\"AUR = \", aur)"
   ]
  },
  {
   "cell_type": "markdown",
   "metadata": {},
   "source": [
    "So the AUR shows that our model is ok.\n",
    "Let's look deeper."
   ]
  },
  {
   "cell_type": "markdown",
   "metadata": {},
   "source": [
    "### View the Raw Prediction and Probability\n",
    "The prediction is based on a raw prediction score that describes a labelled point in a logistic function. This raw prediction is then converted to a predicted label of 0 or 1 based on a probability vector that indicates the confidence for each possible label value (in this case, 0 and 1). The value with the highest confidence is selected as the prediction."
   ]
  },
  {
   "cell_type": "code",
   "execution_count": 20,
   "metadata": {},
   "outputs": [
    {
     "name": "stdout",
     "output_type": "stream",
     "text": [
      "+----------------------------------------+----------------------------------------+----------+---------+\n",
      "|rawPrediction                           |probability                             |prediction|trueLabel|\n",
      "+----------------------------------------+----------------------------------------+----------+---------+\n",
      "|[1.6018715263252867,-1.6018715263252867]|[0.8322797942388581,0.16772020576114188]|0.0       |0        |\n",
      "|[1.237862556715557,-1.237862556715557]  |[0.7751917422005479,0.22480825779945213]|0.0       |0        |\n",
      "|[1.5884665425740983,-1.5884665425740983]|[0.830400246958358,0.169599753041642]   |0.0       |0        |\n",
      "|[1.7005422383917477,-1.7005422383917477]|[0.8456055410985165,0.1543944589014835] |0.0       |0        |\n",
      "|[1.6445408584517893,-1.6445408584517893]|[0.8381518661569878,0.16184813384301222]|0.0       |0        |\n",
      "|[1.7010606941101556,-1.7010606941101556]|[0.8456732168954739,0.15432678310452608]|0.0       |0        |\n",
      "|[1.0850455147706126,-1.0850455147706126]|[0.7474476121256147,0.2525523878743853] |0.0       |1        |\n",
      "|[1.6887444859154435,-1.6887444859154435]|[0.8440589761936954,0.1559410238063046] |0.0       |0        |\n",
      "|[1.6467434509604746,-1.6467434509604746]|[0.8384504326370634,0.16154956736293657]|0.0       |0        |\n",
      "|[1.45073862117062,-1.45073862117062]    |[0.8101120824725718,0.18988791752742817]|0.0       |1        |\n",
      "|[0.9188691380738963,-0.9188691380738963]|[0.7148116287652742,0.28518837123472585]|0.0       |1        |\n",
      "|[1.7033705235127312,-1.7033705235127312]|[0.8459744321553586,0.1540255678446414] |0.0       |0        |\n",
      "|[1.6473691435727726,-1.6473691435727726]|[0.8385351655713942,0.16146483442860582]|0.0       |1        |\n",
      "|[1.662125038352895,-1.662125038352895]  |[0.8405230579626343,0.15947694203736573]|0.0       |0        |\n",
      "|[1.6627581240335676,-1.6627581240335676]|[0.8406079010360401,0.1593920989639599] |0.0       |0        |\n",
      "|[1.747530749692861,-1.747530749692861]  |[0.851641086599439,0.14835891340056095] |0.0       |0        |\n",
      "|[1.6915293697529026,-1.6915293697529026]|[0.8444251810101399,0.15557481898986014]|0.0       |0        |\n",
      "|[1.5927872230685676,-1.5927872230685676]|[0.8310078845393803,0.16899211546061965]|0.0       |0        |\n",
      "|[1.6215573433413355,-1.6215573433413355]|[0.8350097945209085,0.1649902054790915] |0.0       |0        |\n",
      "|[1.5936339187083925,-1.5936339187083925]|[0.8311267558865723,0.16887324411342775]|0.0       |0        |\n",
      "|[1.6777455320841588,-1.6777455320841588]|[0.8426057715684452,0.15739422843155482]|0.0       |0        |\n",
      "|[1.523741737249273,-1.523741737249273]  |[0.8210888097290965,0.17891119027090352]|0.0       |0        |\n",
      "|[1.6638337222290853,-1.6638337222290853]|[0.8407519636208416,0.1592480363791584] |0.0       |0        |\n",
      "|[1.5518309623491684,-1.5518309623491684]|[0.8251780223798889,0.1748219776201111] |0.0       |0        |\n",
      "|[1.0759021407566043,-1.0759021407566043]|[0.745717718502642,0.254282281497358]   |0.0       |1        |\n",
      "|[1.607922753163321,-1.607922753163321]  |[0.833122788249559,0.166877211750441]   |0.0       |0        |\n",
      "|[1.706637950883845,-1.706637950883845]  |[0.8463997023477854,0.1536002976522146] |0.0       |0        |\n",
      "|[1.6507449889631483,-1.6507449889631483]|[0.8389917123906384,0.1610082876093616] |0.0       |0        |\n",
      "|[1.6087439540081796,-1.6087439540081796]|[0.8332369279220418,0.16676307207795815]|0.0       |0        |\n",
      "|[1.6649753001966068,-1.6649753001966068]|[0.8409047478762091,0.15909525212379094]|0.0       |0        |\n",
      "|[1.3565620243536276,-1.3565620243536276]|[0.7952003684109606,0.20479963158903935]|0.0       |0        |\n",
      "|[0.7550292562784908,-0.7550292562784908]|[0.6802735600150139,0.31972643998498607]|0.0       |1        |\n",
      "|[1.6093376643862296,-1.6093376643862296]|[0.8333194095280848,0.1666805904719152] |0.0       |0        |\n",
      "|[1.665500190573236,-1.665500190573236]  |[0.8409749572209158,0.15902504277908425]|0.0       |0        |\n",
      "|[1.5395662937330132,-1.5395662937330132]|[0.8234016682477808,0.17659833175221917]|0.0       |0        |\n",
      "|[1.5676285081153074,-1.5676285081153074]|[0.8274452705049723,0.1725547294950277] |0.0       |0        |\n",
      "|[1.427625058265411,-1.427625058265411]  |[0.8065310025999397,0.1934689974000603] |0.0       |0        |\n",
      "|[1.6096666828069783,-1.6096666828069783]|[0.8333651045733217,0.1666348954266783] |0.0       |0        |\n",
      "|[1.581665992836999,-1.581665992836999]  |[0.8294403338008618,0.1705596661991382] |0.0       |0        |\n",
      "|[1.5958561631429107,-1.5958561631429107]|[0.8314384296914029,0.1685615703085971] |0.0       |0        |\n",
      "|[1.5962185569373983,-1.5962185569373983]|[0.8314892125623584,0.16851078743764158]|0.0       |0        |\n",
      "|[1.5822984938075022,-1.5822984938075022]|[0.8295297944786744,0.17047020552132564]|0.0       |0        |\n",
      "|[1.5682981488225127,-1.5682981488225127]|[0.827540860570154,0.17245913942984603] |0.0       |1        |\n",
      "|[1.6385699809234764,-1.6385699809234764]|[0.8373402605524205,0.1626597394475795] |0.0       |0        |\n",
      "|[1.6245823909995765,-1.6245823909995765]|[0.8354261283715898,0.1645738716284102] |0.0       |0        |\n",
      "|[1.6105820460145868,-1.6105820460145868]|[0.83349218017707,0.16650781982292995]  |0.0       |0        |\n",
      "|[1.5685810110596181,-1.5685810110596181]|[0.8275812260756165,0.17241877392438354]|0.0       |0        |\n",
      "|[1.5966229674037107,-1.5966229674037107]|[0.8315458688992046,0.16845413110079543]|0.0       |0        |\n",
      "|[1.5548128832162305,-1.5548128832162305]|[0.8256077750286439,0.1743922249713561] |0.0       |0        |\n",
      "|[1.6248221111182901,-1.6248221111182901]|[0.8354590846757602,0.16454091532423976]|0.0       |0        |\n",
      "|[1.4708404500658836,-1.4708404500658836]|[0.813185096691759,0.18681490330824102] |0.0       |0        |\n",
      "|[1.6668456550045936,-1.6668456550045936]|[0.8411548118188236,0.15884518818117643]|0.0       |0        |\n",
      "|[1.6388449650346146,-1.6388449650346146]|[0.8373777103400022,0.1626222896599978] |0.0       |0        |\n",
      "|[1.624844620049625,-1.624844620049625]  |[0.8354621788922183,0.1645378211077817] |0.0       |0        |\n",
      "|[1.6529169634510192,-1.6529169634510192]|[0.8392848967552217,0.16071510324477833]|0.0       |0        |\n",
      "|[1.5829152385260712,-1.5829152385260712]|[0.8296169906958224,0.1703830093041776] |0.0       |0        |\n",
      "|[1.6389860210043115,-1.6389860210043115]|[0.8373969179032038,0.1626030820967962] |0.0       |0        |\n",
      "|[1.6250550785576037,-1.6250550785576037]|[0.835491107555152,0.164508892444848]   |0.0       |0        |\n",
      "|[1.6533087552382302,-1.6533087552382302]|[0.8393377368630839,0.16066226313691612]|0.0       |0        |\n",
      "|[1.6393084102532407,-1.6393084102532407]|[0.837440810718863,0.162559189281137]   |0.0       |0        |\n",
      "|[1.5882134356039024,-1.5882134356039024]|[0.8303645974858512,0.16963540251414877]|0.0       |0        |\n",
      "|[1.6312986339754043,-1.6312986339754043]|[0.8363474609558466,0.16365253904415344]|0.0       |0        |\n",
      "|[1.7292098380946075,-1.7292098380946075]|[0.849311321978626,0.15068867802137398] |0.0       |0        |\n",
      "|[1.6312074231996805,-1.6312074231996805]|[0.8363349765188154,0.1636650234811846] |0.0       |0        |\n",
      "|[1.7163570734588287,-1.7163570734588287]|[0.8476590090869325,0.15234099091306752]|0.0       |0        |\n",
      "|[1.6883563834888495,-1.6883563834888495]|[0.8440078860032092,0.1559921139967908] |0.0       |0        |\n",
      "|[1.6040191164878328,-1.6040191164878328]|[0.832579362759268,0.16742063724073197] |0.0       |0        |\n",
      "|[1.6460501244485284,-1.6460501244485284]|[0.8383564986179933,0.16164350138200667]|0.0       |0        |\n",
      "|[1.5620585587065468,-1.5620585587065468]|[0.8266485443331343,0.17335145566686572]|0.0       |0        |\n",
      "|[1.5620585587065468,-1.5620585587065468]|[0.8266485443331343,0.17335145566686572]|0.0       |0        |\n",
      "|[1.5481786365041974,-1.5481786365041974]|[0.8246505146676412,0.17534948533235883]|0.0       |0        |\n",
      "|[0.4002388828649657,-0.4002388828649657]|[0.5987450529344368,0.4012549470655632] |0.0       |1        |\n",
      "|[1.6602774344911422,-1.6602774344911422]|[0.8402752418203048,0.15972475817969523]|0.0       |0        |\n",
      "|[1.590326354661697,-1.590326354661697]  |[0.8306620139258147,0.16933798607418526]|0.0       |0        |\n",
      "|[1.4643232497967904,-1.4643232497967904]|[0.8121930141741387,0.1878069858258613] |0.0       |0        |\n",
      "|[1.3386318936308688,-1.3386318936308688]|[0.7922648668183155,0.20773513318168446]|0.0       |1        |\n",
      "|[1.3530366490821706,-1.3530366490821706]|[0.7946256397578796,0.2053743602421204] |0.0       |1        |\n",
      "|[1.5910969104110526,-1.5910969104110526]|[0.8307703747110557,0.16922962528894425]|0.0       |0        |\n",
      "|[1.7032658612339904,-1.7032658612339904]|[0.8459607939894873,0.15403920601051269]|0.0       |0        |\n",
      "|[1.6053272216445111,-1.6053272216445111]|[0.8327616214851802,0.16723837851481982]|0.0       |0        |\n",
      "|[1.2553268502945936,-1.2553268502945936]|[0.7782206022243944,0.22177939777560562]|0.0       |1        |\n",
      "|[1.465470830146001,-1.465470830146001]  |[0.8123679982314874,0.18763200176851258]|0.0       |0        |\n",
      "|[1.6661293444803835,-1.6661293444803835]|[0.8410590797480398,0.15894092025196016]|0.0       |0        |\n",
      "|[-1.3707495930390374,1.3707495930390374]|[0.20249876539493772,0.7975012346050623]|1.0       |1        |\n",
      "|[1.722404673040324,-1.722404673040324]  |[0.8484383141881897,0.1515616858118103] |0.0       |0        |\n",
      "|[1.6244022581453965,-1.6244022581453965]|[0.8354013605328897,0.16459863946711029]|0.0       |0        |\n",
      "|[1.162429413316354,-1.162429413316354]  |[0.7617738716040995,0.23822612839590052]|0.0       |1        |\n",
      "|[0.9664245835264995,-0.9664245835264995]|[0.7244062681300709,0.2755937318699291] |0.0       |1        |\n",
      "|[1.6251610836237194,-1.6251610836237194]|[0.8355056769792863,0.16449432302071365]|0.0       |0        |\n",
      "|[1.6537188696442309,-1.6537188696442309]|[0.8393930330536651,0.16060696694633492]|0.0       |0        |\n",
      "|[-2.3923808310177663,2.3923808310177663]|[0.08375554445163906,0.916244455548361] |1.0       |1        |\n",
      "|[1.6818444841831173,-1.6818444841831173]|[0.843148616773196,0.15685138322680403] |0.0       |0        |\n",
      "|[1.6671995617337925,-1.6671995617337925]|[0.841202092789148,0.15879790721085196] |0.0       |0        |\n",
      "|[1.6251985267788238,-1.6251985267788238]|[0.8355108229498853,0.16448917705011468]|0.0       |0        |\n",
      "|[1.485285112654266,-1.485285112654266]  |[0.8153695389070318,0.1846304610929682] |0.0       |0        |\n",
      "|[1.5136778331783236,-1.5136778331783236]|[0.819605622067504,0.18039437793249602] |0.0       |0        |\n",
      "|[1.3320707277663475,-1.3320707277663475]|[0.7911829511561376,0.20881704884386243]|0.0       |0        |\n",
      "|[1.6543108795627108,-1.6543108795627108]|[0.8394728272784061,0.1605271727215939] |0.0       |0        |\n",
      "|[1.6543108795627108,-1.6543108795627108]|[0.8394728272784061,0.1605271727215939] |0.0       |0        |\n",
      "|[1.752322298030172,-1.752322298030172]  |[0.8522454722770312,0.14775452772296882]|0.0       |0        |\n",
      "+----------------------------------------+----------------------------------------+----------+---------+\n",
      "only showing top 100 rows\n",
      "\n"
     ]
    }
   ],
   "source": [
    "prediction.select(\"rawPrediction\", \"probability\", \"prediction\", \"trueLabel\").show(100, truncate=False)"
   ]
  },
  {
   "cell_type": "markdown",
   "metadata": {},
   "source": [
    "Note that the results include rows where the probability for 0 (the first value in the probability vector) is only slightly higher than the probability for 1 (the second value in the probability vector). The default discrimination threshold (the boundary that decides whether a probability is predicted as a 1 or a 0) is set to 0.5; so the prediction with the highest probability is always used, no matter how close to the threshold.\n",
    "\n",
    "And we can see from the results above that for those *truelabel* 1s that we predicted 0s, many of them the problibilty of 1 is just slightly less than the threshold 0.5."
   ]
  },
  {
   "cell_type": "markdown",
   "metadata": {},
   "source": [
    "## Tune Parameters \n",
    "To find the best performing parameters, we can use the **CrossValidator** class to evaluate each combination of parameters defined in a **ParameterGrid** against multiple *folds* of the data split into training and validation datasets. Note that this can take a long time to run because every parameter combination is tried multiple times."
   ]
  },
  {
   "cell_type": "markdown",
   "metadata": {},
   "source": [
    "### Change the Discrimination Threshold\n",
    "The AUC score seems to indicate a reasonably good model, but the performance metrics seem to indicate that it predicts a high number of *False Negative* labels (i.e. it predicts 0 when the true label is 1), leading to a low *Recall*. We can improve this by lowering the threshold. Conversely, sometimes we may want to address a large number of *False Positive* by raising the threshold. \n",
    "\n",
    "In this case, I'll let the **CrossValidator** find the best threshold from 0.45, 0.4 and 0.35, regularization parameter from 0.3 and 0.1, and the maximum number of iterations allowed from 10 and 5."
   ]
  },
  {
   "cell_type": "code",
   "execution_count": 21,
   "metadata": {},
   "outputs": [
    {
     "name": "stderr",
     "output_type": "stream",
     "text": [
      "                                                                                \r"
     ]
    }
   ],
   "source": [
    "paramGrid = ParamGridBuilder().addGrid(lr.regParam, [0.3, 0.1]).addGrid(lr.maxIter, [10, 5]).addGrid(lr.threshold, \n",
    "                                                                                            [0.4, 0.3]).build()\n",
    "cv = CrossValidator(estimator=pipeline, evaluator=BinaryClassificationEvaluator(), estimatorParamMaps=paramGrid, \n",
    "                    numFolds=2)\n",
    "\n",
    "model = cv.fit(train)"
   ]
  },
  {
   "cell_type": "code",
   "execution_count": 22,
   "metadata": {},
   "outputs": [
    {
     "name": "stdout",
     "output_type": "stream",
     "text": [
      "+--------------------+----------+---------+\n",
      "|            features|prediction|trueLabel|\n",
      "+--------------------+----------+---------+\n",
      "|[10.0,1.0,0.0,103...|       0.0|        0|\n",
      "|[10.0,1.0,0.0,103...|       0.0|        0|\n",
      "|[10.0,1.0,0.0,103...|       0.0|        0|\n",
      "|[10.0,1.0,0.0,104...|       0.0|        0|\n",
      "|[10.0,1.0,0.0,104...|       0.0|        0|\n",
      "|[10.0,1.0,0.0,104...|       0.0|        0|\n",
      "|[10.0,1.0,0.0,104...|       0.0|        1|\n",
      "|[10.0,1.0,0.0,107...|       0.0|        0|\n",
      "|[10.0,1.0,0.0,107...|       0.0|        0|\n",
      "|[10.0,1.0,0.0,107...|       0.0|        1|\n",
      "|[10.0,1.0,0.0,108...|       0.0|        1|\n",
      "|[10.0,1.0,0.0,108...|       0.0|        0|\n",
      "|[10.0,1.0,0.0,108...|       0.0|        1|\n",
      "|[10.0,1.0,0.0,108...|       0.0|        0|\n",
      "|[10.0,1.0,0.0,110...|       0.0|        0|\n",
      "|[10.0,1.0,0.0,110...|       0.0|        0|\n",
      "|[10.0,1.0,0.0,110...|       0.0|        0|\n",
      "|[10.0,1.0,0.0,110...|       0.0|        0|\n",
      "|[10.0,1.0,0.0,110...|       0.0|        0|\n",
      "|[10.0,1.0,0.0,111...|       0.0|        0|\n",
      "+--------------------+----------+---------+\n",
      "only showing top 20 rows\n",
      "\n"
     ]
    }
   ],
   "source": [
    "newPrediction = model.transform(test)\n",
    "newPredicted = prediction.select(\"features\", \"prediction\", \"trueLabel\")\n",
    "newPredicted.show()"
   ]
  },
  {
   "cell_type": "markdown",
   "metadata": {},
   "source": [
    "Note that some of the **rawPrediction** and **probability** values that were previously predicted as 0 are now predicted as 1"
   ]
  },
  {
   "cell_type": "code",
   "execution_count": 23,
   "metadata": {},
   "outputs": [
    {
     "name": "stderr",
     "output_type": "stream",
     "text": [
      "                                                                                \r"
     ]
    },
    {
     "name": "stdout",
     "output_type": "stream",
     "text": [
      "+---------+------------------+\n",
      "|   metric|             value|\n",
      "+---------+------------------+\n",
      "|       TP|           87863.0|\n",
      "|       FP|            1699.0|\n",
      "|       TN|          646930.0|\n",
      "|       FN|           73904.0|\n",
      "|Precision|0.9810299010741163|\n",
      "|   Recall|0.5431453881199503|\n",
      "|       F1|0.6991871212633639|\n",
      "+---------+------------------+\n",
      "\n"
     ]
    }
   ],
   "source": [
    "# Recalculate confusion matrix\n",
    "tp2 = float(newPrediction.filter(\"prediction == 1.0 AND truelabel == 1\").count())\n",
    "fp2 = float(newPrediction.filter(\"prediction == 1.0 AND truelabel == 0\").count())\n",
    "tn2 = float(newPrediction.filter(\"prediction == 0.0 AND truelabel == 0\").count())\n",
    "fn2 = float(newPrediction.filter(\"prediction == 0.0 AND truelabel == 1\").count())\n",
    "pr2 = tp2 / (tp2 + fp2)\n",
    "re2 = tp2 / (tp2 + fn2)\n",
    "metrics2 = spark.createDataFrame([\n",
    " (\"TP\", tp2),\n",
    " (\"FP\", fp2),\n",
    " (\"TN\", tn2),\n",
    " (\"FN\", fn2),\n",
    " (\"Precision\", pr2),\n",
    " (\"Recall\", re2),\n",
    " (\"F1\", 2*pr2*re2/(re2+pr2))],[\"metric\", \"value\"])\n",
    "metrics2.show()"
   ]
  },
  {
   "cell_type": "code",
   "execution_count": 24,
   "metadata": {},
   "outputs": [
    {
     "name": "stderr",
     "output_type": "stream",
     "text": [
      "                                                                                \r"
     ]
    },
    {
     "name": "stdout",
     "output_type": "stream",
     "text": [
      "AUR2 =  0.9229084810518516\n"
     ]
    }
   ],
   "source": [
    "# Recalculate the Area Under ROC\n",
    "evaluator2 = BinaryClassificationEvaluator(labelCol=\"trueLabel\", rawPredictionCol=\"prediction\", metricName=\"areaUnderROC\")\n",
    "aur2 = evaluator.evaluate(prediction)\n",
    "print( \"AUR2 = \", aur2)"
   ]
  },
  {
   "cell_type": "markdown",
   "metadata": {},
   "source": [
    "Looks pretty good! The new model improves the *Recall* from 0.11 to 0.37, the *F1* score from 0.20 to 0.54, without compromising other metrics.\n",
    "\n",
    "## Next Step\n",
    "\n",
    "There is still much room to improve the model. For example, I can try more options of lower threshold, or use different classfication models, or prepare data better like adding new features. I'll write another one for this."
   ]
  },
  {
   "cell_type": "code",
   "execution_count": null,
   "metadata": {},
   "outputs": [],
   "source": []
  },
  {
   "cell_type": "code",
   "execution_count": null,
   "metadata": {},
   "outputs": [],
   "source": []
  },
  {
   "cell_type": "code",
   "execution_count": null,
   "metadata": {},
   "outputs": [],
   "source": []
  }
 ],
 "metadata": {
  "kernelspec": {
   "display_name": "Python 3",
   "language": "python",
   "name": "python3"
  },
  "language_info": {
   "codemirror_mode": {
    "name": "ipython",
    "version": 3
   },
   "file_extension": ".py",
   "mimetype": "text/x-python",
   "name": "python",
   "nbconvert_exporter": "python",
   "pygments_lexer": "ipython3",
   "version": "3.6.8"
  }
 },
 "nbformat": 4,
 "nbformat_minor": 4
}
