{
 "cells": [
  {
   "cell_type": "markdown",
   "id": "9b450bf6-015c-4d25-8020-4478e77257d9",
   "metadata": {},
   "source": [
    "# Supervised Learning"
   ]
  },
  {
   "cell_type": "markdown",
   "id": "ec448d26-355b-4839-b8e4-24f52b8a33f2",
   "metadata": {},
   "source": [
    "##### It is used whenever we want to predict a certain outcome from a given input"
   ]
  },
  {
   "cell_type": "markdown",
   "id": "98b29bda-fe28-4652-b9a3-2807c64d2df8",
   "metadata": {},
   "source": [
    "## Classification and Regression"
   ]
  },
  {
   "cell_type": "markdown",
   "id": "c890f20f-0d9d-4132-8653-79648166ebaf",
   "metadata": {},
   "source": [
    "#### There are 2 major types of supervised learning machine models, called classification and regression."
   ]
  },
  {
   "cell_type": "markdown",
   "id": "b3226b10-53af-4bc9-9e7f-67f65b403288",
   "metadata": {},
   "source": [
    "#### In classification the goal is to predict a class label which is a choice from a predefined list of possibilities"
   ]
  },
  {
   "cell_type": "code",
   "execution_count": null,
   "id": "429b9543-c2f3-4122-aaf9-802ad1def81b",
   "metadata": {},
   "outputs": [],
   "source": []
  }
 ],
 "metadata": {
  "kernelspec": {
   "display_name": "Python 3 (ipykernel)",
   "language": "python",
   "name": "python3"
  },
  "language_info": {
   "codemirror_mode": {
    "name": "ipython",
    "version": 3
   },
   "file_extension": ".py",
   "mimetype": "text/x-python",
   "name": "python",
   "nbconvert_exporter": "python",
   "pygments_lexer": "ipython3",
   "version": "3.11.4"
  }
 },
 "nbformat": 4,
 "nbformat_minor": 5
}
