{
 "cells": [
  {
   "cell_type": "code",
   "execution_count": 2,
   "id": "5457ec02-5669-4dbb-aab3-b61d41611efb",
   "metadata": {},
   "outputs": [],
   "source": [
    "import tensorflow as tf\n",
    "import numpy as np"
   ]
  },
  {
   "cell_type": "code",
   "execution_count": 8,
   "id": "abcd0b7d-ef42-4205-89d8-a010e8cc07cf",
   "metadata": {},
   "outputs": [
    {
     "name": "stdout",
     "output_type": "stream",
     "text": [
      "<tf.Variable 'Variable:0' shape=() dtype=int16, numpy=1342>\n"
     ]
    }
   ],
   "source": [
    "escalar = tf.Variable(1342, shape = (), dtype = tf.int16)\n",
    "print(escalar)"
   ]
  },
  {
   "cell_type": "code",
   "execution_count": 11,
   "id": "024b8f95-9d78-44b2-a676-d019d945857e",
   "metadata": {},
   "outputs": [],
   "source": [
    "my_tensor = tf.constant([[1.0,2.0], [3.0,4.0]])"
   ]
  },
  {
   "cell_type": "code",
   "execution_count": 14,
   "id": "a03df6d6-38fc-4064-bdeb-62c743a94472",
   "metadata": {},
   "outputs": [
    {
     "name": "stdout",
     "output_type": "stream",
     "text": [
      "<tf.Variable 'Variable:0' shape=(4,) dtype=int16, numpy=array([1, 2, 3, 4], dtype=int16)>\n"
     ]
    }
   ],
   "source": [
    "vector_fila = tf.Variable([1,2,3,4],shape = (4,), dtype = tf.int16)\n",
    "print(vector_fila)"
   ]
  },
  {
   "cell_type": "code",
   "execution_count": 21,
   "id": "fee9809f-e0a9-4c6b-a852-3002df4c4831",
   "metadata": {},
   "outputs": [
    {
     "name": "stdout",
     "output_type": "stream",
     "text": [
      "<tf.Variable 'Variable:0' shape=(4, 1) dtype=int32, numpy=\n",
      "array([[12],\n",
      "       [21],\n",
      "       [21],\n",
      "       [12]], dtype=int32)>\n"
     ]
    }
   ],
   "source": [
    "vectorCol = tf.Variable([[12], [21], [21], [12]], shape = (4,1), dtype = tf.int32)\n",
    "print(vectorCol)"
   ]
  },
  {
   "cell_type": "code",
   "execution_count": null,
   "id": "69acf8fe-2957-459f-a9ee-93565d357004",
   "metadata": {},
   "outputs": [],
   "source": []
  }
 ],
 "metadata": {
  "kernelspec": {
   "display_name": "Python 3 (ipykernel)",
   "language": "python",
   "name": "python3"
  },
  "language_info": {
   "codemirror_mode": {
    "name": "ipython",
    "version": 3
   },
   "file_extension": ".py",
   "mimetype": "text/x-python",
   "name": "python",
   "nbconvert_exporter": "python",
   "pygments_lexer": "ipython3",
   "version": "3.11.4"
  }
 },
 "nbformat": 4,
 "nbformat_minor": 5
}
